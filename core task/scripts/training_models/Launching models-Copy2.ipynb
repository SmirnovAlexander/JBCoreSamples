{
 "cells": [
  {
   "cell_type": "code",
   "execution_count": 1,
   "metadata": {},
   "outputs": [
    {
     "name": "stdout",
     "output_type": "stream",
     "text": [
      "Collecting wandb\n",
      "\u001b[?25l  Downloading https://files.pythonhosted.org/packages/84/bd/3909f10c9986d93c82c9ab8899f8002ed01f57ca597607a41955c403b86e/wandb-0.8.15-py2.py3-none-any.whl (1.3MB)\n",
      "\u001b[K     |████████████████████████████████| 1.3MB 3.5MB/s eta 0:00:01\n",
      "\u001b[?25hCollecting Click>=7.0\n",
      "\u001b[?25l  Downloading https://files.pythonhosted.org/packages/fa/37/45185cb5abbc30d7257104c434fe0b07e5a195a6847506c074527aa599ec/Click-7.0-py2.py3-none-any.whl (81kB)\n",
      "\u001b[K     |████████████████████████████████| 81kB 11.3MB/s eta 0:00:01\n",
      "\u001b[?25hCollecting nvidia-ml-py3>=7.352.0\n",
      "  Downloading https://files.pythonhosted.org/packages/6d/64/cce82bddb80c0b0f5c703bbdafa94bfb69a1c5ad7a79cff00b482468f0d3/nvidia-ml-py3-7.352.0.tar.gz\n",
      "Collecting shortuuid>=0.5.0\n",
      "  Downloading https://files.pythonhosted.org/packages/80/d7/2bfc9332e68d3e15ea97b9b1588b3899ad565120253d3fd71c8f7f13b4fe/shortuuid-0.5.0.tar.gz\n",
      "Collecting gql>=0.1.0\n",
      "  Downloading https://files.pythonhosted.org/packages/aa/9c/2933b7791210e00f5c26a6243198cc03af9132c29cf85e4c22cb007f171e/gql-0.1.0.tar.gz\n",
      "Collecting docker-pycreds>=0.4.0\n",
      "  Downloading https://files.pythonhosted.org/packages/f5/e8/f6bd1eee09314e7e6dee49cbe2c5e22314ccdb38db16c9fc72d2fa80d054/docker_pycreds-0.4.0-py2.py3-none-any.whl\n",
      "Collecting watchdog>=0.8.3\n",
      "\u001b[?25l  Downloading https://files.pythonhosted.org/packages/bb/e3/5a55d48a29300160779f0a0d2776d17c1b762a2039b36de528b093b87d5b/watchdog-0.9.0.tar.gz (85kB)\n",
      "\u001b[K     |████████████████████████████████| 92kB 9.8MB/s  eta 0:00:01\n",
      "\u001b[?25hCollecting psutil>=5.0.0\n",
      "\u001b[?25l  Downloading https://files.pythonhosted.org/packages/03/9a/95c4b3d0424426e5fd94b5302ff74cea44d5d4f53466e1228ac8e73e14b4/psutil-5.6.5.tar.gz (447kB)\n",
      "\u001b[K     |████████████████████████████████| 450kB 53.0MB/s eta 0:00:01\n",
      "\u001b[?25hCollecting configparser>=3.8.1\n",
      "  Downloading https://files.pythonhosted.org/packages/7a/2a/95ed0501cf5d8709490b1d3a3f9b5cf340da6c433f896bbe9ce08dbe6785/configparser-4.0.2-py2.py3-none-any.whl\n",
      "Collecting subprocess32>=3.5.3\n",
      "\u001b[?25l  Downloading https://files.pythonhosted.org/packages/32/c8/564be4d12629b912ea431f1a50eb8b3b9d00f1a0b1ceff17f266be190007/subprocess32-3.5.4.tar.gz (97kB)\n",
      "\u001b[K     |████████████████████████████████| 102kB 11.3MB/s ta 0:00:01\n",
      "\u001b[?25hCollecting GitPython>=1.0.0\n",
      "\u001b[?25l  Downloading https://files.pythonhosted.org/packages/aa/25/9fd9f0b05408021736a22ae73f837152c132e4ea85cdd71d186e24efec31/GitPython-3.0.4-py3-none-any.whl (454kB)\n",
      "\u001b[K     |████████████████████████████████| 460kB 40.5MB/s eta 0:00:01\n",
      "\u001b[?25hRequirement already satisfied: python-dateutil>=2.6.1 in /usr/local/lib/python3.6/dist-packages (from wandb) (2.8.0)\n",
      "Requirement already satisfied: six>=1.10.0 in /usr/local/lib/python3.6/dist-packages (from wandb) (1.12.0)\n",
      "Requirement already satisfied: requests>=2.0.0 in /usr/local/lib/python3.6/dist-packages (from wandb) (2.22.0)\n",
      "Collecting sentry-sdk>=0.4.0\n",
      "\u001b[?25l  Downloading https://files.pythonhosted.org/packages/d0/18/689665903308543fe92c9b02d6dd91e88de16a44fbd353f13b353d714fb6/sentry_sdk-0.13.1-py2.py3-none-any.whl (91kB)\n",
      "\u001b[K     |████████████████████████████████| 92kB 12.4MB/s eta 0:00:01\n",
      "\u001b[?25hCollecting graphql-core>=0.5.0\n",
      "\u001b[?25l  Downloading https://files.pythonhosted.org/packages/6a/11/bc4a7eb440124271289d93e4d208bd07d94196038fabbe2a52435a07d3d3/graphql_core-2.2.1-py2.py3-none-any.whl (250kB)\n",
      "\u001b[K     |████████████████████████████████| 256kB 56.5MB/s eta 0:00:01\n",
      "\u001b[?25hCollecting promise>=0.4.0\n",
      "  Downloading https://files.pythonhosted.org/packages/5a/81/221d09d90176fd90aed4b530e31b8fedf207385767c06d1d46c550c5e418/promise-2.2.1.tar.gz\n",
      "Requirement already satisfied: PyYAML>=3.10 in /usr/lib/python3/dist-packages (from watchdog>=0.8.3->wandb) (3.12)\n",
      "Collecting argh>=0.24.1\n",
      "  Downloading https://files.pythonhosted.org/packages/06/1c/e667a7126f0b84aaa1c56844337bf0ac12445d1beb9c8a6199a7314944bf/argh-0.26.2-py2.py3-none-any.whl\n",
      "Collecting pathtools>=0.1.1\n",
      "  Downloading https://files.pythonhosted.org/packages/e7/7f/470d6fcdf23f9f3518f6b0b76be9df16dcc8630ad409947f8be2eb0ed13a/pathtools-0.1.2.tar.gz\n",
      "Collecting gitdb2>=2.0.0\n",
      "\u001b[?25l  Downloading https://files.pythonhosted.org/packages/03/6c/99296f89bad2ef85626e1df9f677acbee8885bb043ad82ad3ed4746d2325/gitdb2-2.0.6-py2.py3-none-any.whl (63kB)\n",
      "\u001b[K     |████████████████████████████████| 71kB 11.6MB/s eta 0:00:01\n",
      "\u001b[?25hRequirement already satisfied: urllib3!=1.25.0,!=1.25.1,<1.26,>=1.21.1 in /usr/local/lib/python3.6/dist-packages (from requests>=2.0.0->wandb) (1.25.6)\n",
      "Requirement already satisfied: idna<2.9,>=2.5 in /usr/local/lib/python3.6/dist-packages (from requests>=2.0.0->wandb) (2.8)\n",
      "Requirement already satisfied: chardet<3.1.0,>=3.0.2 in /usr/local/lib/python3.6/dist-packages (from requests>=2.0.0->wandb) (3.0.4)\n",
      "Requirement already satisfied: certifi>=2017.4.17 in /usr/local/lib/python3.6/dist-packages (from requests>=2.0.0->wandb) (2019.9.11)\n",
      "Collecting rx<3,>=1.6\n",
      "\u001b[?25l  Downloading https://files.pythonhosted.org/packages/33/0f/5ef4ac78e2a538cc1b054eb86285fe0bf7a5dbaeaac2c584757c300515e2/Rx-1.6.1-py2.py3-none-any.whl (179kB)\n",
      "\u001b[K     |████████████████████████████████| 184kB 52.6MB/s eta 0:00:01\n",
      "\u001b[?25hCollecting smmap2>=2.0.0\n",
      "  Downloading https://files.pythonhosted.org/packages/55/d2/866d45e3a121ee15a1dc013824d58072fd5c7799c9c34d01378eb262ca8f/smmap2-2.0.5-py2.py3-none-any.whl\n",
      "Building wheels for collected packages: nvidia-ml-py3, shortuuid, gql, watchdog, psutil, subprocess32, promise, pathtools\n",
      "  Building wheel for nvidia-ml-py3 (setup.py) ... \u001b[?25ldone\n",
      "\u001b[?25h  Created wheel for nvidia-ml-py3: filename=nvidia_ml_py3-7.352.0-cp36-none-any.whl size=19192 sha256=1a1fc30212a7c2998f66796e1a190b0b9c463d92e44801cf8dc9f4d8d9ef2c6f\n",
      "  Stored in directory: /root/.cache/pip/wheels/e4/1d/06/640c93f5270d67d0247f30be91f232700d19023f9e66d735c7\n",
      "  Building wheel for shortuuid (setup.py) ... \u001b[?25ldone\n",
      "\u001b[?25h  Created wheel for shortuuid: filename=shortuuid-0.5.0-cp36-none-any.whl size=5499 sha256=9ddeb1b95ec6dbacd583c4f839d9887951be282d33ecd1a60852e0da70c4feba\n",
      "  Stored in directory: /root/.cache/pip/wheels/3f/eb/fd/69e5177f67b505e44acbd1aedfbe44b91768ee0c4cd5636576\n",
      "  Building wheel for gql (setup.py) ... \u001b[?25ldone\n",
      "\u001b[?25h  Created wheel for gql: filename=gql-0.1.0-cp36-none-any.whl size=5541 sha256=c9170c7600a15b98f560bb92cfe7fece5e3e6ec232e8e06eb98d77eed00aeba3\n",
      "  Stored in directory: /root/.cache/pip/wheels/a7/8d/65/a3247f500d675d80a01e4d2f0ee44fe99f1faef575bc2a1664\n",
      "  Building wheel for watchdog (setup.py) ... \u001b[?25ldone\n",
      "\u001b[?25h  Created wheel for watchdog: filename=watchdog-0.9.0-cp36-none-any.whl size=73652 sha256=a537798f226906cc2d5be52545cf33b34176a3b723ef0174d53affebddda4474\n",
      "  Stored in directory: /root/.cache/pip/wheels/61/1d/d0/04cfe495619be2095eb8d89a31c42adb4e42b76495bc8f784c\n",
      "  Building wheel for psutil (setup.py) ... \u001b[?25ldone\n",
      "\u001b[?25h  Created wheel for psutil: filename=psutil-5.6.5-cp36-cp36m-linux_x86_64.whl size=273956 sha256=382f256e37debfe5073cc9a367e1c51829f204c1812482e3356d3c68da5e71b4\n",
      "  Stored in directory: /root/.cache/pip/wheels/33/48/b6/72b7243c5caf65b7d5b460e9fad82b1256992284e870b7db59\n",
      "  Building wheel for subprocess32 (setup.py) ... \u001b[?25ldone\n",
      "\u001b[?25h  Created wheel for subprocess32: filename=subprocess32-3.5.4-cp36-none-any.whl size=6489 sha256=b790c44ebafce57e6c85032627d7a6074c84bf4504d2fbc0d7ca18abb9356f60\n",
      "  Stored in directory: /root/.cache/pip/wheels/68/39/1a/5e402bdfdf004af1786c8b853fd92f8c4a04f22aad179654d1\n",
      "  Building wheel for promise (setup.py) ... \u001b[?25ldone\n",
      "\u001b[?25h  Created wheel for promise: filename=promise-2.2.1-cp36-none-any.whl size=21292 sha256=c427901dbafdfdec9426263aaf41e73299bd896fba1823e852609d750ea78f25\n",
      "  Stored in directory: /root/.cache/pip/wheels/92/84/9f/75e2235effae0e1c5a5c0626a503e532bbffcb7e79e672b606\n",
      "  Building wheel for pathtools (setup.py) ... \u001b[?25ldone\n",
      "\u001b[?25h  Created wheel for pathtools: filename=pathtools-0.1.2-cp36-none-any.whl size=8786 sha256=d383bddb0c7d28912d1b4b5b4db0bc0ec4009ff6fa8c5ee34ac5b87ddf531530\n",
      "  Stored in directory: /root/.cache/pip/wheels/0b/04/79/c3b0c3a0266a3cb4376da31e5bfe8bba0c489246968a68e843\n",
      "Successfully built nvidia-ml-py3 shortuuid gql watchdog psutil subprocess32 promise pathtools\n",
      "Installing collected packages: Click, nvidia-ml-py3, shortuuid, promise, rx, graphql-core, gql, docker-pycreds, argh, pathtools, watchdog, psutil, configparser, subprocess32, smmap2, gitdb2, GitPython, sentry-sdk, wandb\n"
     ]
    },
    {
     "name": "stdout",
     "output_type": "stream",
     "text": [
      "Successfully installed Click-7.0 GitPython-3.0.4 argh-0.26.2 configparser-4.0.2 docker-pycreds-0.4.0 gitdb2-2.0.6 gql-0.1.0 graphql-core-2.2.1 nvidia-ml-py3-7.352.0 pathtools-0.1.2 promise-2.2.1 psutil-5.6.5 rx-1.6.1 sentry-sdk-0.13.1 shortuuid-0.5.0 smmap2-2.0.5 subprocess32-3.5.4 wandb-0.8.15 watchdog-0.9.0\r\n"
     ]
    }
   ],
   "source": [
    "!pip install wandb"
   ]
  },
  {
   "cell_type": "code",
   "execution_count": 4,
   "metadata": {},
   "outputs": [
    {
     "name": "stdout",
     "output_type": "stream",
     "text": [
      "\u001b[34m\u001b[1mwandb\u001b[0m: Appending key for api.wandb.ai to your netrc file: /root/.netrc\r\n",
      "\u001b[32mSuccessfully logged in to Weights & Biases!\u001b[0m\r\n"
     ]
    }
   ],
   "source": [
    "!wandb login 66d54470623874cabb8fd185b2b4f3cd0a503e37"
   ]
  },
  {
   "cell_type": "code",
   "execution_count": 7,
   "metadata": {},
   "outputs": [],
   "source": [
    "import training_model_wandb_Copy2\n",
    "from tensorflow import keras"
   ]
  },
  {
   "cell_type": "code",
   "execution_count": null,
   "metadata": {},
   "outputs": [
    {
     "name": "stdout",
     "output_type": "stream",
     "text": [
      "Found 7964 images belonging to 4 classes.\n",
      "Found 2132 images belonging to 4 classes.\n",
      "Found 1200 images belonging to 4 classes.\n",
      "Downloading data from https://github.com/fchollet/deep-learning-models/releases/download/v0.1/vgg16_weights_tf_dim_ordering_tf_kernels_notop.h5\n",
      "58892288/58889256 [==============================] - 2s 0us/step\n",
      "Number of layers in base model: 19\n",
      "<tensorflow.python.keras.engine.input_layer.InputLayer object at 0x7f54c457def0>: False\n",
      "<tensorflow.python.keras.layers.convolutional.Conv2D object at 0x7f54d01f95f8>: False\n",
      "<tensorflow.python.keras.layers.convolutional.Conv2D object at 0x7f54c4508860>: False\n",
      "<tensorflow.python.keras.layers.pooling.MaxPooling2D object at 0x7f54c407a828>: False\n",
      "<tensorflow.python.keras.layers.convolutional.Conv2D object at 0x7f55404627b8>: False\n",
      "<tensorflow.python.keras.layers.convolutional.Conv2D object at 0x7f54c3dc8f28>: False\n",
      "<tensorflow.python.keras.layers.pooling.MaxPooling2D object at 0x7f54c3df2390>: False\n",
      "<tensorflow.python.keras.layers.convolutional.Conv2D object at 0x7f54c3df2470>: False\n",
      "<tensorflow.python.keras.layers.convolutional.Conv2D object at 0x7f54c3d7bbe0>: False\n",
      "<tensorflow.python.keras.layers.convolutional.Conv2D object at 0x7f54c3d90eb8>: False\n",
      "<tensorflow.python.keras.layers.pooling.MaxPooling2D object at 0x7f54c3da2fd0>: False\n",
      "<tensorflow.python.keras.layers.convolutional.Conv2D object at 0x7f54c3d372b0>: True\n",
      "<tensorflow.python.keras.layers.convolutional.Conv2D object at 0x7f54c3d44a20>: True\n",
      "<tensorflow.python.keras.layers.convolutional.Conv2D object at 0x7f54c3d58cf8>: True\n",
      "<tensorflow.python.keras.layers.pooling.MaxPooling2D object at 0x7f54c3d67fd0>: True\n",
      "<tensorflow.python.keras.layers.convolutional.Conv2D object at 0x7f54bf82d0f0>: True\n",
      "<tensorflow.python.keras.layers.convolutional.Conv2D object at 0x7f54bf842860>: True\n",
      "<tensorflow.python.keras.layers.convolutional.Conv2D object at 0x7f54bf84ab38>: True\n",
      "<tensorflow.python.keras.layers.pooling.MaxPooling2D object at 0x7f54bf85ae10>: True\n"
     ]
    },
    {
     "name": "stderr",
     "output_type": "stream",
     "text": [
      "wandb: WARNING Path ../../models/rock/UV/2019_11_07-16_01_27/wandb/ wasn't writable, using system temp directory\n",
      "wandb: WARNING Path ../../models/rock/UV/2019_11_07-16_01_27/wandb/ wasn't writable, using system temp directory\n",
      "wandb: WARNING Path ../../models/rock/UV/2019_11_07-16_01_27/wandb/ wasn't writable, using system temp directory\n",
      "wandb: WARNING Path ../../models/rock/UV/2019_11_07-16_01_27/wandb/ wasn't writable, using system temp directory\n",
      "wandb: WARNING Path ../../models/rock/UV/2019_11_07-16_01_27/wandb/ wasn't writable, using system temp directory\n",
      "wandb: WARNING Path ../../models/rock/UV/2019_11_07-16_01_27/wandb/ wasn't writable, using system temp directory\n"
     ]
    },
    {
     "data": {
      "text/html": [
       "\n",
       "                    Logging results to <a href=\"https://wandb.com\" target=\"_blank\">Weights & Biases</a>.<br/>\n",
       "                    Couldn't load entity due to error: Can't connect to network to query entity from API key\n",
       "                "
      ],
      "text/plain": [
       "<IPython.core.display.HTML object>"
      ]
     },
     "metadata": {},
     "output_type": "display_data"
    },
    {
     "name": "stderr",
     "output_type": "stream",
     "text": [
      "wandb: WARNING Path ../../models/rock/UV/2019_11_07-16_01_27/wandb/ wasn't writable, using system temp directory\n",
      "wandb: WARNING Path ../../models/rock/UV/2019_11_07-16_01_27/wandb/ wasn't writable, using system temp directory\n",
      "wandb: WARNING Path ../../models/rock/UV/2019_11_07-16_01_27/wandb/ wasn't writable, using system temp directory\n",
      "wandb: WARNING Path ../../models/rock/UV/2019_11_07-16_01_27/wandb/ wasn't writable, using system temp directory\n",
      "wandb: WARNING Path ../../models/rock/UV/2019_11_07-16_01_27/wandb/ wasn't writable, using system temp directory\n",
      "wandb: WARNING Path ../../models/rock/UV/2019_11_07-16_01_27/wandb/ wasn't writable, using system temp directory\n",
      "wandb: WARNING Path ../../models/rock/UV/2019_11_07-16_01_27/wandb/ wasn't writable, using system temp directory\n",
      "wandb: WARNING Path ../../models/rock/UV/2019_11_07-16_01_27/wandb/ wasn't writable, using system temp directory\n"
     ]
    },
    {
     "name": "stdout",
     "output_type": "stream",
     "text": [
      "Epoch 1/500\n",
      "497/497 [==============================] - 358s 720ms/step - loss: 1.0693 - accuracy: 0.5065 - val_loss: 0.9222 - val_accuracy: 0.5752\n",
      "Epoch 2/500\n",
      "497/497 [==============================] - 347s 699ms/step - loss: 0.8923 - accuracy: 0.6043 - val_loss: 0.9498 - val_accuracy: 0.5846\n",
      "Epoch 3/500\n",
      "497/497 [==============================] - 347s 698ms/step - loss: 0.8066 - accuracy: 0.6336 - val_loss: 0.9575 - val_accuracy: 0.5851\n",
      "Epoch 4/500\n",
      "497/497 [==============================] - 347s 697ms/step - loss: 0.7288 - accuracy: 0.6701 - val_loss: 0.9802 - val_accuracy: 0.5921\n",
      "Epoch 5/500\n",
      "497/497 [==============================] - 348s 701ms/step - loss: 0.6802 - accuracy: 0.7011 - val_loss: 1.0102 - val_accuracy: 0.5959\n",
      "Epoch 6/500\n",
      "497/497 [==============================] - 347s 699ms/step - loss: 0.6265 - accuracy: 0.7258 - val_loss: 1.0131 - val_accuracy: 0.6090\n",
      "Epoch 7/500\n",
      "497/497 [==============================] - 348s 700ms/step - loss: 0.5647 - accuracy: 0.7500 - val_loss: 1.1412 - val_accuracy: 0.6020\n",
      "Epoch 8/500\n",
      "300/497 [=================>............] - ETA: 2:03 - loss: 0.5278 - accuracy: 0.7759"
     ]
    },
    {
     "name": "stderr",
     "output_type": "stream",
     "text": [
      "IOPub message rate exceeded.\n",
      "The notebook server will temporarily stop sending output\n",
      "to the client in order to avoid crashing it.\n",
      "To change this limit, set the config variable\n",
      "`--NotebookApp.iopub_msg_rate_limit`.\n",
      "\n",
      "Current values:\n",
      "NotebookApp.iopub_msg_rate_limit=1000.0 (msgs/sec)\n",
      "NotebookApp.rate_limit_window=3.0 (secs)\n",
      "\n"
     ]
    },
    {
     "name": "stdout",
     "output_type": "stream",
     "text": [
      "497/497 [==============================] - 346s 696ms/step - loss: 0.2064 - accuracy: 0.9243 - val_loss: 1.5995 - val_accuracy: 0.6273\n",
      "Epoch 17/500\n",
      "497/497 [==============================] - 346s 697ms/step - loss: 0.1748 - accuracy: 0.9361 - val_loss: 1.7906 - val_accuracy: 0.6142\n",
      "Epoch 18/500\n",
      "497/497 [==============================] - 346s 697ms/step - loss: 0.1541 - accuracy: 0.9467 - val_loss: 2.3079 - val_accuracy: 0.5907\n",
      "Epoch 19/500\n",
      "497/497 [==============================] - 346s 697ms/step - loss: 0.1325 - accuracy: 0.9517 - val_loss: 1.9922 - val_accuracy: 0.6086\n",
      "Epoch 20/500\n",
      "497/497 [==============================] - 346s 696ms/step - loss: 0.1168 - accuracy: 0.9582 - val_loss: 1.9352 - val_accuracy: 0.6212\n",
      "Epoch 21/500\n",
      "497/497 [==============================] - 346s 696ms/step - loss: 0.1078 - accuracy: 0.9624 - val_loss: 1.7414 - val_accuracy: 0.6227\n",
      "Epoch 22/500\n",
      "497/497 [==============================] - 345s 695ms/step - loss: 0.0870 - accuracy: 0.9685 - val_loss: 2.0470 - val_accuracy: 0.6208\n",
      "Epoch 23/500\n",
      "497/497 [==============================] - 345s 694ms/step - loss: 0.0943 - accuracy: 0.9640 - val_loss: 2.1582 - val_accuracy: 0.6086\n",
      "Epoch 24/500\n",
      "497/497 [==============================] - 345s 695ms/step - loss: 0.0845 - accuracy: 0.9719 - val_loss: 2.1942 - val_accuracy: 0.6137\n",
      "Epoch 25/500\n",
      "497/497 [==============================] - 345s 695ms/step - loss: 0.0663 - accuracy: 0.9770 - val_loss: 2.4001 - val_accuracy: 0.6170\n",
      "Epoch 26/500\n",
      "497/497 [==============================] - 346s 696ms/step - loss: 0.0735 - accuracy: 0.9738 - val_loss: 2.0100 - val_accuracy: 0.6043\n",
      "Epoch 27/500\n",
      "497/497 [==============================] - 346s 696ms/step - loss: 0.0524 - accuracy: 0.9839 - val_loss: 2.3858 - val_accuracy: 0.6128\n",
      "Epoch 28/500\n",
      "497/497 [==============================] - 346s 696ms/step - loss: 0.0606 - accuracy: 0.9800 - val_loss: 2.4280 - val_accuracy: 0.5977\n",
      "Epoch 29/500\n",
      "497/497 [==============================] - 345s 695ms/step - loss: 0.0489 - accuracy: 0.9851 - val_loss: 2.6394 - val_accuracy: 0.5945\n",
      "Epoch 30/500\n",
      "497/497 [==============================] - 346s 695ms/step - loss: 0.0555 - accuracy: 0.9806 - val_loss: 2.5264 - val_accuracy: 0.5761\n",
      "Epoch 31/500\n",
      "497/497 [==============================] - 345s 695ms/step - loss: 0.0345 - accuracy: 0.9891 - val_loss: 2.6222 - val_accuracy: 0.6057\n",
      "Epoch 32/500\n",
      "497/497 [==============================] - 346s 695ms/step - loss: 0.0361 - accuracy: 0.9897 - val_loss: 2.4316 - val_accuracy: 0.6203\n",
      "Epoch 33/500\n",
      "497/497 [==============================] - 346s 697ms/step - loss: 0.0517 - accuracy: 0.9830 - val_loss: 2.4962 - val_accuracy: 0.6086\n",
      "Epoch 34/500\n",
      "497/497 [==============================] - 346s 696ms/step - loss: 0.0314 - accuracy: 0.9899 - val_loss: 2.4822 - val_accuracy: 0.5973\n",
      "Epoch 35/500\n",
      "497/497 [==============================] - 345s 695ms/step - loss: 0.0339 - accuracy: 0.9897 - val_loss: 2.6019 - val_accuracy: 0.6006\n",
      "Epoch 36/500\n",
      "497/497 [==============================] - 345s 694ms/step - loss: 0.0361 - accuracy: 0.9887 - val_loss: 2.7072 - val_accuracy: 0.6095\n",
      "Epoch 37/500\n",
      "286/497 [================>.............] - ETA: 2:12 - loss: 0.0193 - accuracy: 0.9943"
     ]
    }
   ],
   "source": [
    "training_model_wandb_Copy2.run(base_model = keras.applications.vgg16.VGG16,\n",
    "        image_size=(224, 224),\n",
    "        batch_size=16,\n",
    "        category_type=\"rock\",\n",
    "        training_folder=\"UV\",\n",
    "        optimizer=keras.optimizers.Adam(lr=0.00001),        \n",
    "        model_name=\"VGG16\")"
   ]
  }
 ],
 "metadata": {
  "kernelspec": {
   "display_name": "Python 3",
   "language": "python",
   "name": "python3"
  },
  "language_info": {
   "codemirror_mode": {
    "name": "ipython",
    "version": 3
   },
   "file_extension": ".py",
   "mimetype": "text/x-python",
   "name": "python",
   "nbconvert_exporter": "python",
   "pygments_lexer": "ipython3",
   "version": "3.6.8"
  }
 },
 "nbformat": 4,
 "nbformat_minor": 2
}
