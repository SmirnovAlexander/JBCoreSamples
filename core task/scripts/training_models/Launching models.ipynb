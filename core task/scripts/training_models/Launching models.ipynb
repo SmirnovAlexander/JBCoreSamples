{
 "cells": [
  {
   "cell_type": "code",
   "execution_count": 1,
   "metadata": {},
   "outputs": [
    {
     "name": "stdout",
     "output_type": "stream",
     "text": [
      "Collecting wandb\n",
      "\u001b[?25l  Downloading https://files.pythonhosted.org/packages/84/bd/3909f10c9986d93c82c9ab8899f8002ed01f57ca597607a41955c403b86e/wandb-0.8.15-py2.py3-none-any.whl (1.3MB)\n",
      "\u001b[K     |████████████████████████████████| 1.3MB 3.4MB/s eta 0:00:01\n",
      "\u001b[?25hCollecting docker-pycreds>=0.4.0\n",
      "  Downloading https://files.pythonhosted.org/packages/f5/e8/f6bd1eee09314e7e6dee49cbe2c5e22314ccdb38db16c9fc72d2fa80d054/docker_pycreds-0.4.0-py2.py3-none-any.whl\n",
      "Requirement already satisfied: six>=1.10.0 in /usr/local/lib/python3.6/dist-packages (from wandb) (1.12.0)\n",
      "Collecting GitPython>=1.0.0\n",
      "\u001b[?25l  Downloading https://files.pythonhosted.org/packages/aa/25/9fd9f0b05408021736a22ae73f837152c132e4ea85cdd71d186e24efec31/GitPython-3.0.4-py3-none-any.whl (454kB)\n",
      "\u001b[K     |████████████████████████████████| 460kB 37.7MB/s eta 0:00:01\n",
      "\u001b[?25hCollecting subprocess32>=3.5.3\n",
      "\u001b[?25l  Downloading https://files.pythonhosted.org/packages/32/c8/564be4d12629b912ea431f1a50eb8b3b9d00f1a0b1ceff17f266be190007/subprocess32-3.5.4.tar.gz (97kB)\n",
      "\u001b[K     |████████████████████████████████| 102kB 12.4MB/s ta 0:00:01\n",
      "\u001b[?25hCollecting nvidia-ml-py3>=7.352.0\n",
      "  Downloading https://files.pythonhosted.org/packages/6d/64/cce82bddb80c0b0f5c703bbdafa94bfb69a1c5ad7a79cff00b482468f0d3/nvidia-ml-py3-7.352.0.tar.gz\n",
      "Collecting gql>=0.1.0\n",
      "  Downloading https://files.pythonhosted.org/packages/aa/9c/2933b7791210e00f5c26a6243198cc03af9132c29cf85e4c22cb007f171e/gql-0.1.0.tar.gz\n",
      "Requirement already satisfied: requests>=2.0.0 in /usr/local/lib/python3.6/dist-packages (from wandb) (2.22.0)\n",
      "Collecting psutil>=5.0.0\n",
      "\u001b[?25l  Downloading https://files.pythonhosted.org/packages/03/9a/95c4b3d0424426e5fd94b5302ff74cea44d5d4f53466e1228ac8e73e14b4/psutil-5.6.5.tar.gz (447kB)\n",
      "\u001b[K     |████████████████████████████████| 450kB 29.5MB/s eta 0:00:01\n",
      "\u001b[?25hCollecting configparser>=3.8.1\n",
      "  Downloading https://files.pythonhosted.org/packages/7a/2a/95ed0501cf5d8709490b1d3a3f9b5cf340da6c433f896bbe9ce08dbe6785/configparser-4.0.2-py2.py3-none-any.whl\n",
      "Requirement already satisfied: python-dateutil>=2.6.1 in /usr/local/lib/python3.6/dist-packages (from wandb) (2.8.0)\n",
      "Collecting shortuuid>=0.5.0\n",
      "  Downloading https://files.pythonhosted.org/packages/80/d7/2bfc9332e68d3e15ea97b9b1588b3899ad565120253d3fd71c8f7f13b4fe/shortuuid-0.5.0.tar.gz\n",
      "Collecting watchdog>=0.8.3\n",
      "\u001b[?25l  Downloading https://files.pythonhosted.org/packages/bb/e3/5a55d48a29300160779f0a0d2776d17c1b762a2039b36de528b093b87d5b/watchdog-0.9.0.tar.gz (85kB)\n",
      "\u001b[K     |████████████████████████████████| 92kB 10.2MB/s eta 0:00:01\n",
      "\u001b[?25hCollecting Click>=7.0\n",
      "\u001b[?25l  Downloading https://files.pythonhosted.org/packages/fa/37/45185cb5abbc30d7257104c434fe0b07e5a195a6847506c074527aa599ec/Click-7.0-py2.py3-none-any.whl (81kB)\n",
      "\u001b[K     |████████████████████████████████| 81kB 10.9MB/s eta 0:00:01\n",
      "\u001b[?25hCollecting sentry-sdk>=0.4.0\n",
      "\u001b[?25l  Downloading https://files.pythonhosted.org/packages/d0/18/689665903308543fe92c9b02d6dd91e88de16a44fbd353f13b353d714fb6/sentry_sdk-0.13.1-py2.py3-none-any.whl (91kB)\n",
      "\u001b[K     |████████████████████████████████| 92kB 13.2MB/s eta 0:00:01\n",
      "\u001b[?25hCollecting gitdb2>=2.0.0\n",
      "\u001b[?25l  Downloading https://files.pythonhosted.org/packages/03/6c/99296f89bad2ef85626e1df9f677acbee8885bb043ad82ad3ed4746d2325/gitdb2-2.0.6-py2.py3-none-any.whl (63kB)\n",
      "\u001b[K     |████████████████████████████████| 71kB 10.6MB/s eta 0:00:01\n",
      "\u001b[?25hCollecting graphql-core>=0.5.0\n",
      "\u001b[?25l  Downloading https://files.pythonhosted.org/packages/6a/11/bc4a7eb440124271289d93e4d208bd07d94196038fabbe2a52435a07d3d3/graphql_core-2.2.1-py2.py3-none-any.whl (250kB)\n",
      "\u001b[K     |████████████████████████████████| 256kB 44.2MB/s eta 0:00:01\n",
      "\u001b[?25hCollecting promise>=0.4.0\n",
      "  Downloading https://files.pythonhosted.org/packages/5a/81/221d09d90176fd90aed4b530e31b8fedf207385767c06d1d46c550c5e418/promise-2.2.1.tar.gz\n",
      "Requirement already satisfied: certifi>=2017.4.17 in /usr/local/lib/python3.6/dist-packages (from requests>=2.0.0->wandb) (2019.9.11)\n",
      "Requirement already satisfied: urllib3!=1.25.0,!=1.25.1,<1.26,>=1.21.1 in /usr/local/lib/python3.6/dist-packages (from requests>=2.0.0->wandb) (1.25.6)\n",
      "Requirement already satisfied: chardet<3.1.0,>=3.0.2 in /usr/local/lib/python3.6/dist-packages (from requests>=2.0.0->wandb) (3.0.4)\n",
      "Requirement already satisfied: idna<2.9,>=2.5 in /usr/local/lib/python3.6/dist-packages (from requests>=2.0.0->wandb) (2.8)\n",
      "Requirement already satisfied: PyYAML>=3.10 in /usr/lib/python3/dist-packages (from watchdog>=0.8.3->wandb) (3.12)\n",
      "Collecting argh>=0.24.1\n",
      "  Downloading https://files.pythonhosted.org/packages/06/1c/e667a7126f0b84aaa1c56844337bf0ac12445d1beb9c8a6199a7314944bf/argh-0.26.2-py2.py3-none-any.whl\n",
      "Collecting pathtools>=0.1.1\n",
      "  Downloading https://files.pythonhosted.org/packages/e7/7f/470d6fcdf23f9f3518f6b0b76be9df16dcc8630ad409947f8be2eb0ed13a/pathtools-0.1.2.tar.gz\n",
      "Collecting smmap2>=2.0.0\n",
      "  Downloading https://files.pythonhosted.org/packages/55/d2/866d45e3a121ee15a1dc013824d58072fd5c7799c9c34d01378eb262ca8f/smmap2-2.0.5-py2.py3-none-any.whl\n",
      "Collecting rx<3,>=1.6\n",
      "\u001b[?25l  Downloading https://files.pythonhosted.org/packages/33/0f/5ef4ac78e2a538cc1b054eb86285fe0bf7a5dbaeaac2c584757c300515e2/Rx-1.6.1-py2.py3-none-any.whl (179kB)\n",
      "\u001b[K     |████████████████████████████████| 184kB 45.1MB/s eta 0:00:01\n",
      "\u001b[?25hBuilding wheels for collected packages: subprocess32, nvidia-ml-py3, gql, psutil, shortuuid, watchdog, promise, pathtools\n",
      "  Building wheel for subprocess32 (setup.py) ... \u001b[?25ldone\n",
      "\u001b[?25h  Created wheel for subprocess32: filename=subprocess32-3.5.4-cp36-none-any.whl size=6489 sha256=ff50d20b59c38e0762e4bfde631a20bb4978a5fe5746fdd3a63475e477a51dab\n",
      "  Stored in directory: /root/.cache/pip/wheels/68/39/1a/5e402bdfdf004af1786c8b853fd92f8c4a04f22aad179654d1\n",
      "  Building wheel for nvidia-ml-py3 (setup.py) ... \u001b[?25ldone\n",
      "\u001b[?25h  Created wheel for nvidia-ml-py3: filename=nvidia_ml_py3-7.352.0-cp36-none-any.whl size=19192 sha256=eed0d28ca46f214877da20a4ef8593176bafb5889f8e8b8e2b327be45d962f1d\n",
      "  Stored in directory: /root/.cache/pip/wheels/e4/1d/06/640c93f5270d67d0247f30be91f232700d19023f9e66d735c7\n",
      "  Building wheel for gql (setup.py) ... \u001b[?25ldone\n",
      "\u001b[?25h  Created wheel for gql: filename=gql-0.1.0-cp36-none-any.whl size=5541 sha256=ae70ec069fb357c09f82cbed53cf3d1594a232a5a441b421c32effca8f540420\n",
      "  Stored in directory: /root/.cache/pip/wheels/a7/8d/65/a3247f500d675d80a01e4d2f0ee44fe99f1faef575bc2a1664\n",
      "  Building wheel for psutil (setup.py) ... \u001b[?25ldone\n",
      "\u001b[?25h  Created wheel for psutil: filename=psutil-5.6.5-cp36-cp36m-linux_x86_64.whl size=273910 sha256=fa729c3bd807596a588cee8209e87a51e986eca1ae2ecfc764872c5594715fd6\n",
      "  Stored in directory: /root/.cache/pip/wheels/33/48/b6/72b7243c5caf65b7d5b460e9fad82b1256992284e870b7db59\n",
      "  Building wheel for shortuuid (setup.py) ... \u001b[?25ldone\n",
      "\u001b[?25h  Created wheel for shortuuid: filename=shortuuid-0.5.0-cp36-none-any.whl size=5499 sha256=8ca2267c79bcd0db9aa22f439a50406aa069b29ca7ca8b495c56c7db1fa9dca3\n",
      "  Stored in directory: /root/.cache/pip/wheels/3f/eb/fd/69e5177f67b505e44acbd1aedfbe44b91768ee0c4cd5636576\n",
      "  Building wheel for watchdog (setup.py) ... \u001b[?25ldone\n",
      "\u001b[?25h  Created wheel for watchdog: filename=watchdog-0.9.0-cp36-none-any.whl size=73652 sha256=c85e446b96720886b54536e1392beaae0670922bfdd852a7e4331e1b633690c7\n",
      "  Stored in directory: /root/.cache/pip/wheels/61/1d/d0/04cfe495619be2095eb8d89a31c42adb4e42b76495bc8f784c\n",
      "  Building wheel for promise (setup.py) ... \u001b[?25ldone\n",
      "\u001b[?25h  Created wheel for promise: filename=promise-2.2.1-cp36-none-any.whl size=21292 sha256=22aa5e01b952e70cfd156c98330701755f6b4eb30ab791ffa2b748e12a84485e\n",
      "  Stored in directory: /root/.cache/pip/wheels/92/84/9f/75e2235effae0e1c5a5c0626a503e532bbffcb7e79e672b606\n",
      "  Building wheel for pathtools (setup.py) ... \u001b[?25ldone\n",
      "\u001b[?25h  Created wheel for pathtools: filename=pathtools-0.1.2-cp36-none-any.whl size=8786 sha256=2e4e0862ad78ea97da104bc80e33d3992fa84ffb07393e8855f63d833aec3882\n",
      "  Stored in directory: /root/.cache/pip/wheels/0b/04/79/c3b0c3a0266a3cb4376da31e5bfe8bba0c489246968a68e843\n",
      "Successfully built subprocess32 nvidia-ml-py3 gql psutil shortuuid watchdog promise pathtools\n",
      "Installing collected packages: docker-pycreds, smmap2, gitdb2, GitPython, subprocess32, nvidia-ml-py3, rx, promise, graphql-core, gql, psutil, configparser, shortuuid, argh, pathtools, watchdog, Click, sentry-sdk, wandb\n"
     ]
    },
    {
     "name": "stdout",
     "output_type": "stream",
     "text": [
      "Successfully installed Click-7.0 GitPython-3.0.4 argh-0.26.2 configparser-4.0.2 docker-pycreds-0.4.0 gitdb2-2.0.6 gql-0.1.0 graphql-core-2.2.1 nvidia-ml-py3-7.352.0 pathtools-0.1.2 promise-2.2.1 psutil-5.6.5 rx-1.6.1 sentry-sdk-0.13.1 shortuuid-0.5.0 smmap2-2.0.5 subprocess32-3.5.4 wandb-0.8.15 watchdog-0.9.0\r\n"
     ]
    }
   ],
   "source": [
    "!pip install wandb"
   ]
  },
  {
   "cell_type": "code",
   "execution_count": 2,
   "metadata": {},
   "outputs": [
    {
     "name": "stdout",
     "output_type": "stream",
     "text": [
      "\u001b[34m\u001b[1mwandb\u001b[0m: Appending key for api.wandb.ai to your netrc file: /root/.netrc\r\n",
      "\u001b[32mSuccessfully logged in to Weights & Biases!\u001b[0m\r\n"
     ]
    }
   ],
   "source": [
    "!wandb login 66d54470623874cabb8fd185b2b4f3cd0a503e37"
   ]
  },
  {
   "cell_type": "code",
   "execution_count": 3,
   "metadata": {},
   "outputs": [],
   "source": [
    "import training_model_wandb\n",
    "from tensorflow import keras"
   ]
  },
  {
   "cell_type": "code",
   "execution_count": null,
   "metadata": {},
   "outputs": [
    {
     "name": "stdout",
     "output_type": "stream",
     "text": [
      "Found 7848 images belonging to 4 classes.\n",
      "Found 2388 images belonging to 4 classes.\n",
      "Found 1060 images belonging to 4 classes.\n",
      "Downloading data from https://github.com/fchollet/deep-learning-models/releases/download/v0.1/vgg16_weights_tf_dim_ordering_tf_kernels_notop.h5\n",
      "58892288/58889256 [==============================] - 1s 0us/step\n",
      "Number of layers in base model: 19\n",
      "<tensorflow.python.keras.engine.input_layer.InputLayer object at 0x7fe04cb44ba8>: False\n",
      "<tensorflow.python.keras.layers.convolutional.Conv2D object at 0x7fe058801668>: False\n",
      "<tensorflow.python.keras.layers.convolutional.Conv2D object at 0x7fe04cacdfd0>: False\n",
      "<tensorflow.python.keras.layers.pooling.MaxPooling2D object at 0x7fe0a60fa4e0>: False\n",
      "<tensorflow.python.keras.layers.convolutional.Conv2D object at 0x7fe0c8368278>: False\n",
      "<tensorflow.python.keras.layers.convolutional.Conv2D object at 0x7fe0a610bd30>: False\n",
      "<tensorflow.python.keras.layers.pooling.MaxPooling2D object at 0x7fe0a6122eb8>: False\n",
      "<tensorflow.python.keras.layers.convolutional.Conv2D object at 0x7fe0a60bb128>: False\n",
      "<tensorflow.python.keras.layers.convolutional.Conv2D object at 0x7fe0a60d1898>: False\n",
      "<tensorflow.python.keras.layers.convolutional.Conv2D object at 0x7fe0a60d9b70>: False\n",
      "<tensorflow.python.keras.layers.pooling.MaxPooling2D object at 0x7fe0a606ee48>: False\n",
      "<tensorflow.python.keras.layers.convolutional.Conv2D object at 0x7fe0a606ef28>: True\n",
      "<tensorflow.python.keras.layers.convolutional.Conv2D object at 0x7fe0a60836d8>: True\n",
      "<tensorflow.python.keras.layers.convolutional.Conv2D object at 0x7fe0a60a39b0>: True\n",
      "<tensorflow.python.keras.layers.pooling.MaxPooling2D object at 0x7fe0a6034c88>: True\n",
      "<tensorflow.python.keras.layers.convolutional.Conv2D object at 0x7fe0a6034d68>: True\n",
      "<tensorflow.python.keras.layers.convolutional.Conv2D object at 0x7fe0a6060518>: True\n",
      "<tensorflow.python.keras.layers.convolutional.Conv2D object at 0x7fe0a60a97f0>: True\n",
      "<tensorflow.python.keras.layers.pooling.MaxPooling2D object at 0x7fe04cb44c18>: True\n"
     ]
    },
    {
     "name": "stderr",
     "output_type": "stream",
     "text": [
      "wandb: WARNING Path ../../models/rock/non-UV/2019_11_07-15_51_27/wandb/ wasn't writable, using system temp directory\n",
      "wandb: WARNING Path ../../models/rock/non-UV/2019_11_07-15_51_27/wandb/ wasn't writable, using system temp directory\n",
      "wandb: WARNING Path ../../models/rock/non-UV/2019_11_07-15_51_27/wandb/ wasn't writable, using system temp directory\n",
      "wandb: WARNING Path ../../models/rock/non-UV/2019_11_07-15_51_27/wandb/ wasn't writable, using system temp directory\n",
      "wandb: WARNING Path ../../models/rock/non-UV/2019_11_07-15_51_27/wandb/ wasn't writable, using system temp directory\n",
      "wandb: WARNING Path ../../models/rock/non-UV/2019_11_07-15_51_27/wandb/ wasn't writable, using system temp directory\n"
     ]
    },
    {
     "data": {
      "text/html": [
       "\n",
       "                    Logging results to <a href=\"https://wandb.com\" target=\"_blank\">Weights & Biases</a>.<br/>\n",
       "                    Couldn't load entity due to error: Can't connect to network to query entity from API key\n",
       "                "
      ],
      "text/plain": [
       "<IPython.core.display.HTML object>"
      ]
     },
     "metadata": {},
     "output_type": "display_data"
    },
    {
     "name": "stderr",
     "output_type": "stream",
     "text": [
      "wandb: WARNING Path ../../models/rock/non-UV/2019_11_07-15_51_27/wandb/ wasn't writable, using system temp directory\n",
      "wandb: WARNING Path ../../models/rock/non-UV/2019_11_07-15_51_27/wandb/ wasn't writable, using system temp directory\n",
      "wandb: WARNING Path ../../models/rock/non-UV/2019_11_07-15_51_27/wandb/ wasn't writable, using system temp directory\n",
      "wandb: WARNING Path ../../models/rock/non-UV/2019_11_07-15_51_27/wandb/ wasn't writable, using system temp directory\n",
      "wandb: WARNING Path ../../models/rock/non-UV/2019_11_07-15_51_27/wandb/ wasn't writable, using system temp directory\n",
      "wandb: WARNING Path ../../models/rock/non-UV/2019_11_07-15_51_27/wandb/ wasn't writable, using system temp directory\n",
      "wandb: WARNING Path ../../models/rock/non-UV/2019_11_07-15_51_27/wandb/ wasn't writable, using system temp directory\n",
      "wandb: WARNING Path ../../models/rock/non-UV/2019_11_07-15_51_27/wandb/ wasn't writable, using system temp directory\n"
     ]
    },
    {
     "name": "stdout",
     "output_type": "stream",
     "text": [
      "Epoch 1/500\n",
      "490/490 [==============================] - 364s 742ms/step - loss: 1.0355 - accuracy: 0.5360 - val_loss: 0.7561 - val_accuracy: 0.6774\n",
      "Epoch 2/500\n",
      "490/490 [==============================] - 358s 732ms/step - loss: 0.7967 - accuracy: 0.6614 - val_loss: 0.6891 - val_accuracy: 0.6925\n",
      "Epoch 3/500\n",
      "490/490 [==============================] - 358s 731ms/step - loss: 0.7156 - accuracy: 0.6933 - val_loss: 0.6352 - val_accuracy: 0.7219\n",
      "Epoch 4/500\n",
      "490/490 [==============================] - 354s 722ms/step - loss: 0.6688 - accuracy: 0.7165 - val_loss: 0.6355 - val_accuracy: 0.7211\n",
      "Epoch 5/500\n",
      "490/490 [==============================] - 358s 731ms/step - loss: 0.6357 - accuracy: 0.7320 - val_loss: 0.5826 - val_accuracy: 0.7571\n",
      "Epoch 6/500\n",
      "490/490 [==============================] - 354s 722ms/step - loss: 0.6080 - accuracy: 0.7449 - val_loss: 0.6151 - val_accuracy: 0.7416\n",
      "Epoch 7/500\n",
      "490/490 [==============================] - 354s 722ms/step - loss: 0.5868 - accuracy: 0.7589 - val_loss: 0.6327 - val_accuracy: 0.7244\n",
      "Epoch 8/500\n",
      "490/490 [==============================] - 354s 722ms/step - loss: 0.5569 - accuracy: 0.7667 - val_loss: 0.5913 - val_accuracy: 0.7496\n",
      "Epoch 9/500\n",
      "490/490 [==============================] - 354s 721ms/step - loss: 0.5325 - accuracy: 0.7823 - val_loss: 0.6253 - val_accuracy: 0.7441\n",
      "Epoch 10/500\n",
      "148/490 [========>.....................] - ETA: 3:35 - loss: 0.5302 - accuracy: 0.7780"
     ]
    },
    {
     "name": "stderr",
     "output_type": "stream",
     "text": [
      "IOPub message rate exceeded.\n",
      "The notebook server will temporarily stop sending output\n",
      "to the client in order to avoid crashing it.\n",
      "To change this limit, set the config variable\n",
      "`--NotebookApp.iopub_msg_rate_limit`.\n",
      "\n",
      "Current values:\n",
      "NotebookApp.iopub_msg_rate_limit=1000.0 (msgs/sec)\n",
      "NotebookApp.rate_limit_window=3.0 (secs)\n",
      "\n"
     ]
    },
    {
     "name": "stdout",
     "output_type": "stream",
     "text": [
      "490/490 [==============================] - 353s 720ms/step - loss: 0.3552 - accuracy: 0.8652 - val_loss: 0.6197 - val_accuracy: 0.7525\n",
      "Epoch 18/500\n",
      "490/490 [==============================] - 353s 721ms/step - loss: 0.3263 - accuracy: 0.8722 - val_loss: 0.6772 - val_accuracy: 0.7630\n",
      "Epoch 19/500\n",
      "490/490 [==============================] - 353s 720ms/step - loss: 0.3043 - accuracy: 0.8842 - val_loss: 0.6621 - val_accuracy: 0.7454\n",
      "Epoch 20/500\n",
      "490/490 [==============================] - 353s 720ms/step - loss: 0.2829 - accuracy: 0.8911 - val_loss: 0.7553 - val_accuracy: 0.7437\n",
      "Epoch 21/500\n",
      "490/490 [==============================] - 354s 722ms/step - loss: 0.2580 - accuracy: 0.9032 - val_loss: 0.6887 - val_accuracy: 0.7496\n",
      "Epoch 22/500\n",
      "490/490 [==============================] - 353s 721ms/step - loss: 0.2295 - accuracy: 0.9137 - val_loss: 0.7596 - val_accuracy: 0.7550\n",
      "Epoch 23/500\n",
      "490/490 [==============================] - 354s 723ms/step - loss: 0.2326 - accuracy: 0.9132 - val_loss: 0.7303 - val_accuracy: 0.7643\n",
      "Epoch 24/500\n",
      "490/490 [==============================] - 353s 721ms/step - loss: 0.2051 - accuracy: 0.9261 - val_loss: 0.8192 - val_accuracy: 0.7576\n",
      "Epoch 25/500\n",
      "490/490 [==============================] - 353s 720ms/step - loss: 0.1935 - accuracy: 0.9322 - val_loss: 0.8091 - val_accuracy: 0.7630\n",
      "Epoch 26/500\n",
      "490/490 [==============================] - 353s 721ms/step - loss: 0.1813 - accuracy: 0.9363 - val_loss: 0.9493 - val_accuracy: 0.7437\n",
      "Epoch 27/500\n",
      "490/490 [==============================] - 353s 721ms/step - loss: 0.1686 - accuracy: 0.9378 - val_loss: 0.8880 - val_accuracy: 0.7450\n",
      "Epoch 28/500\n",
      "490/490 [==============================] - 353s 721ms/step - loss: 0.1601 - accuracy: 0.9388 - val_loss: 0.9686 - val_accuracy: 0.7617\n",
      "Epoch 29/500\n",
      "490/490 [==============================] - 353s 720ms/step - loss: 0.1414 - accuracy: 0.9479 - val_loss: 0.9085 - val_accuracy: 0.7630\n",
      "Epoch 30/500\n",
      "490/490 [==============================] - 353s 719ms/step - loss: 0.1331 - accuracy: 0.9520 - val_loss: 0.9612 - val_accuracy: 0.7555\n",
      "Epoch 31/500\n",
      "490/490 [==============================] - 353s 719ms/step - loss: 0.1237 - accuracy: 0.9563 - val_loss: 1.0482 - val_accuracy: 0.7492\n",
      "Epoch 32/500\n",
      "490/490 [==============================] - 352s 719ms/step - loss: 0.1148 - accuracy: 0.9589 - val_loss: 0.9983 - val_accuracy: 0.7576\n",
      "Epoch 33/500\n",
      "490/490 [==============================] - 353s 721ms/step - loss: 0.1209 - accuracy: 0.9574 - val_loss: 1.0090 - val_accuracy: 0.7441\n",
      "Epoch 34/500\n",
      "490/490 [==============================] - 353s 720ms/step - loss: 0.0995 - accuracy: 0.9654 - val_loss: 1.1589 - val_accuracy: 0.7437\n",
      "Epoch 35/500\n",
      "490/490 [==============================] - 353s 721ms/step - loss: 0.0936 - accuracy: 0.9671 - val_loss: 1.4094 - val_accuracy: 0.7265\n",
      "Epoch 36/500\n",
      "490/490 [==============================] - 353s 721ms/step - loss: 0.0897 - accuracy: 0.9685 - val_loss: 1.4637 - val_accuracy: 0.7378\n",
      "Epoch 37/500\n",
      "490/490 [==============================] - 352s 719ms/step - loss: 0.0904 - accuracy: 0.9686 - val_loss: 0.9822 - val_accuracy: 0.7471\n",
      "Epoch 38/500\n",
      "216/490 [============>.................] - ETA: 2:52 - loss: 0.0811 - accuracy: 0.9719"
     ]
    }
   ],
   "source": [
    "training_model_wandb.run(base_model = keras.applications.vgg16.VGG16,\n",
    "        image_size=(224, 224),\n",
    "        batch_size=16,\n",
    "        category_type=\"rock\",\n",
    "        training_folder=\"non-UV\",\n",
    "        optimizer=keras.optimizers.Adam(lr=0.00001),        \n",
    "        model_name=\"VGG16\")"
   ]
  },
  {
   "cell_type": "code",
   "execution_count": null,
   "metadata": {},
   "outputs": [],
   "source": []
  }
 ],
 "metadata": {
  "kernelspec": {
   "display_name": "Python 3",
   "language": "python",
   "name": "python3"
  },
  "language_info": {
   "codemirror_mode": {
    "name": "ipython",
    "version": 3
   },
   "file_extension": ".py",
   "mimetype": "text/x-python",
   "name": "python",
   "nbconvert_exporter": "python",
   "pygments_lexer": "ipython3",
   "version": "3.6.8"
  }
 },
 "nbformat": 4,
 "nbformat_minor": 2
}
