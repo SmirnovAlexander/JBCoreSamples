{
 "cells": [
  {
   "cell_type": "code",
   "execution_count": 1,
   "metadata": {},
   "outputs": [
    {
     "name": "stdout",
     "output_type": "stream",
     "text": [
      "Requirement already satisfied: wandb in /usr/local/lib/python3.6/dist-packages (0.8.15)\n",
      "Requirement already satisfied: subprocess32>=3.5.3 in /usr/local/lib/python3.6/dist-packages (from wandb) (3.5.4)\n",
      "Requirement already satisfied: nvidia-ml-py3>=7.352.0 in /usr/local/lib/python3.6/dist-packages (from wandb) (7.352.0)\n",
      "Requirement already satisfied: watchdog>=0.8.3 in /usr/local/lib/python3.6/dist-packages (from wandb) (0.9.0)\n",
      "Requirement already satisfied: requests>=2.0.0 in /usr/local/lib/python3.6/dist-packages (from wandb) (2.22.0)\n",
      "Requirement already satisfied: psutil>=5.0.0 in /usr/local/lib/python3.6/dist-packages (from wandb) (5.6.5)\n",
      "Requirement already satisfied: Click>=7.0 in /usr/local/lib/python3.6/dist-packages (from wandb) (7.0)\n",
      "Requirement already satisfied: docker-pycreds>=0.4.0 in /usr/local/lib/python3.6/dist-packages (from wandb) (0.4.0)\n",
      "Requirement already satisfied: shortuuid>=0.5.0 in /usr/local/lib/python3.6/dist-packages (from wandb) (0.5.0)\n",
      "Requirement already satisfied: gql>=0.1.0 in /usr/local/lib/python3.6/dist-packages (from wandb) (0.1.0)\n",
      "Requirement already satisfied: configparser>=3.8.1 in /usr/local/lib/python3.6/dist-packages (from wandb) (4.0.2)\n",
      "Requirement already satisfied: six>=1.10.0 in /usr/local/lib/python3.6/dist-packages (from wandb) (1.12.0)\n",
      "Requirement already satisfied: GitPython>=1.0.0 in /usr/local/lib/python3.6/dist-packages (from wandb) (3.0.4)\n",
      "Requirement already satisfied: python-dateutil>=2.6.1 in /usr/local/lib/python3.6/dist-packages (from wandb) (2.8.0)\n",
      "Requirement already satisfied: sentry-sdk>=0.4.0 in /usr/local/lib/python3.6/dist-packages (from wandb) (0.13.1)\n",
      "Requirement already satisfied: PyYAML>=3.10 in /usr/lib/python3/dist-packages (from watchdog>=0.8.3->wandb) (3.12)\n",
      "Requirement already satisfied: argh>=0.24.1 in /usr/local/lib/python3.6/dist-packages (from watchdog>=0.8.3->wandb) (0.26.2)\n",
      "Requirement already satisfied: pathtools>=0.1.1 in /usr/local/lib/python3.6/dist-packages (from watchdog>=0.8.3->wandb) (0.1.2)\n",
      "Requirement already satisfied: idna<2.9,>=2.5 in /usr/local/lib/python3.6/dist-packages (from requests>=2.0.0->wandb) (2.8)\n",
      "Requirement already satisfied: chardet<3.1.0,>=3.0.2 in /usr/local/lib/python3.6/dist-packages (from requests>=2.0.0->wandb) (3.0.4)\n",
      "Requirement already satisfied: urllib3!=1.25.0,!=1.25.1,<1.26,>=1.21.1 in /usr/local/lib/python3.6/dist-packages (from requests>=2.0.0->wandb) (1.25.6)\n",
      "Requirement already satisfied: certifi>=2017.4.17 in /usr/local/lib/python3.6/dist-packages (from requests>=2.0.0->wandb) (2019.9.11)\n",
      "Requirement already satisfied: graphql-core>=0.5.0 in /usr/local/lib/python3.6/dist-packages (from gql>=0.1.0->wandb) (2.2.1)\n",
      "Requirement already satisfied: promise>=0.4.0 in /usr/local/lib/python3.6/dist-packages (from gql>=0.1.0->wandb) (2.2.1)\n",
      "Requirement already satisfied: gitdb2>=2.0.0 in /usr/local/lib/python3.6/dist-packages (from GitPython>=1.0.0->wandb) (2.0.6)\n",
      "Requirement already satisfied: rx<3,>=1.6 in /usr/local/lib/python3.6/dist-packages (from graphql-core>=0.5.0->gql>=0.1.0->wandb) (1.6.1)\n",
      "Requirement already satisfied: smmap2>=2.0.0 in /usr/local/lib/python3.6/dist-packages (from gitdb2>=2.0.0->GitPython>=1.0.0->wandb) (2.0.5)\n"
     ]
    }
   ],
   "source": [
    "!pip install wandb"
   ]
  },
  {
   "cell_type": "code",
   "execution_count": 2,
   "metadata": {},
   "outputs": [
    {
     "name": "stdout",
     "output_type": "stream",
     "text": [
      "\u001b[34m\u001b[1mwandb\u001b[0m: Appending key for api.wandb.ai to your netrc file: /root/.netrc\n",
      "\u001b[32mSuccessfully logged in to Weights & Biases!\u001b[0m\n"
     ]
    }
   ],
   "source": [
    "!wandb login 66d54470623874cabb8fd185b2b4f3cd0a503e37"
   ]
  },
  {
   "cell_type": "code",
   "execution_count": 3,
   "metadata": {},
   "outputs": [],
   "source": [
    "import training_model_wandb\n",
    "from tensorflow import keras"
   ]
  },
  {
   "cell_type": "code",
   "execution_count": null,
   "metadata": {},
   "outputs": [
    {
     "name": "stdout",
     "output_type": "stream",
     "text": [
      "Found 7964 images belonging to 4 classes.\n",
      "Found 2132 images belonging to 4 classes.\n",
      "Found 1200 images belonging to 4 classes.\n",
      "Number of layers in base model: 19\n",
      "<tensorflow.python.keras.engine.input_layer.InputLayer object at 0x7f41db6c2cc0>: False\n",
      "<tensorflow.python.keras.layers.convolutional.Conv2D object at 0x7f41db6c2978>: False\n",
      "<tensorflow.python.keras.layers.convolutional.Conv2D object at 0x7f41db238668>: False\n",
      "<tensorflow.python.keras.layers.pooling.MaxPooling2D object at 0x7f41db1ebcc0>: False\n",
      "<tensorflow.python.keras.layers.convolutional.Conv2D object at 0x7f41f8486ac8>: False\n",
      "<tensorflow.python.keras.layers.convolutional.Conv2D object at 0x7f41daf45550>: False\n",
      "<tensorflow.python.keras.layers.pooling.MaxPooling2D object at 0x7f41daf69828>: False\n",
      "<tensorflow.python.keras.layers.convolutional.Conv2D object at 0x7f41daf69908>: False\n",
      "<tensorflow.python.keras.layers.convolutional.Conv2D object at 0x7f41daefdf28>: False\n",
      "<tensorflow.python.keras.layers.convolutional.Conv2D object at 0x7f41daf2b390>: False\n",
      "<tensorflow.python.keras.layers.pooling.MaxPooling2D object at 0x7f41d8778668>: False\n",
      "<tensorflow.python.keras.layers.convolutional.Conv2D object at 0x7f41d8778748>: True\n",
      "<tensorflow.python.keras.layers.convolutional.Conv2D object at 0x7f41d878beb8>: True\n",
      "<tensorflow.python.keras.layers.convolutional.Conv2D object at 0x7f41d87a0fd0>: True\n",
      "<tensorflow.python.keras.layers.pooling.MaxPooling2D object at 0x7f41d87474a8>: True\n",
      "<tensorflow.python.keras.layers.convolutional.Conv2D object at 0x7f41d8747588>: True\n",
      "<tensorflow.python.keras.layers.convolutional.Conv2D object at 0x7f41d8756cf8>: True\n",
      "<tensorflow.python.keras.layers.convolutional.Conv2D object at 0x7f41d876bfd0>: True\n",
      "<tensorflow.python.keras.layers.pooling.MaxPooling2D object at 0x7f41d87142e8>: True\n"
     ]
    },
    {
     "name": "stderr",
     "output_type": "stream",
     "text": [
      "wandb: WARNING Path ../../models/rock/UV/2019_11_07-15_57_20/wandb/ wasn't writable, using system temp directory\n",
      "wandb: WARNING Path ../../models/rock/UV/2019_11_07-15_57_20/wandb/ wasn't writable, using system temp directory\n",
      "wandb: WARNING Path ../../models/rock/UV/2019_11_07-15_57_20/wandb/ wasn't writable, using system temp directory\n",
      "wandb: WARNING Path ../../models/rock/UV/2019_11_07-15_57_20/wandb/ wasn't writable, using system temp directory\n",
      "wandb: WARNING Path ../../models/rock/UV/2019_11_07-15_57_20/wandb/ wasn't writable, using system temp directory\n",
      "wandb: WARNING Path ../../models/rock/UV/2019_11_07-15_57_20/wandb/ wasn't writable, using system temp directory\n"
     ]
    },
    {
     "data": {
      "text/html": [
       "\n",
       "                    Logging results to <a href=\"https://wandb.com\" target=\"_blank\">Weights & Biases</a>.<br/>\n",
       "                    Couldn't load entity due to error: Can't connect to network to query entity from API key\n",
       "                "
      ],
      "text/plain": [
       "<IPython.core.display.HTML object>"
      ]
     },
     "metadata": {},
     "output_type": "display_data"
    },
    {
     "name": "stderr",
     "output_type": "stream",
     "text": [
      "wandb: WARNING Path ../../models/rock/UV/2019_11_07-15_57_20/wandb/ wasn't writable, using system temp directory\n",
      "wandb: WARNING Path ../../models/rock/UV/2019_11_07-15_57_20/wandb/ wasn't writable, using system temp directory\n",
      "wandb: WARNING Path ../../models/rock/UV/2019_11_07-15_57_20/wandb/ wasn't writable, using system temp directory\n",
      "wandb: WARNING Path ../../models/rock/UV/2019_11_07-15_57_20/wandb/ wasn't writable, using system temp directory\n",
      "wandb: WARNING Path ../../models/rock/UV/2019_11_07-15_57_20/wandb/ wasn't writable, using system temp directory\n",
      "wandb: WARNING Path ../../models/rock/UV/2019_11_07-15_57_20/wandb/ wasn't writable, using system temp directory\n",
      "wandb: WARNING Path ../../models/rock/UV/2019_11_07-15_57_20/wandb/ wasn't writable, using system temp directory\n",
      "wandb: WARNING Path ../../models/rock/UV/2019_11_07-15_57_20/wandb/ wasn't writable, using system temp directory\n"
     ]
    },
    {
     "name": "stdout",
     "output_type": "stream",
     "text": [
      "Epoch 1/500\n",
      "497/497 [==============================] - 366s 736ms/step - loss: 1.1530 - accuracy: 0.4575 - val_loss: 1.0388 - val_accuracy: 0.5291\n",
      "Epoch 2/500\n",
      "497/497 [==============================] - 356s 717ms/step - loss: 1.0122 - accuracy: 0.5355 - val_loss: 0.9431 - val_accuracy: 0.5634\n",
      "Epoch 3/500\n",
      "497/497 [==============================] - 352s 708ms/step - loss: 0.9491 - accuracy: 0.5647 - val_loss: 0.9852 - val_accuracy: 0.5461\n",
      "Epoch 4/500\n",
      "497/497 [==============================] - 351s 707ms/step - loss: 0.9200 - accuracy: 0.5825 - val_loss: 1.0622 - val_accuracy: 0.5169\n",
      "Epoch 5/500\n",
      "497/497 [==============================] - 351s 706ms/step - loss: 0.8897 - accuracy: 0.6005 - val_loss: 0.9771 - val_accuracy: 0.5498\n",
      "Epoch 6/500\n",
      "497/497 [==============================] - 357s 718ms/step - loss: 0.8637 - accuracy: 0.6125 - val_loss: 0.9233 - val_accuracy: 0.6048\n",
      "Epoch 7/500\n",
      "497/497 [==============================] - 352s 709ms/step - loss: 0.8401 - accuracy: 0.6177 - val_loss: 0.9662 - val_accuracy: 0.5752\n",
      "Epoch 8/500\n",
      "497/497 [==============================] - 352s 709ms/step - loss: 0.8296 - accuracy: 0.6288 - val_loss: 0.9587 - val_accuracy: 0.5757\n",
      "Epoch 9/500\n",
      "115/497 [=====>........................] - ETA: 4:00 - loss: 0.7925 - accuracy: 0.6454"
     ]
    },
    {
     "name": "stderr",
     "output_type": "stream",
     "text": [
      "IOPub message rate exceeded.\n",
      "The notebook server will temporarily stop sending output\n",
      "to the client in order to avoid crashing it.\n",
      "To change this limit, set the config variable\n",
      "`--NotebookApp.iopub_msg_rate_limit`.\n",
      "\n",
      "Current values:\n",
      "NotebookApp.iopub_msg_rate_limit=1000.0 (msgs/sec)\n",
      "NotebookApp.rate_limit_window=3.0 (secs)\n",
      "\n"
     ]
    },
    {
     "name": "stdout",
     "output_type": "stream",
     "text": [
      "497/497 [==============================] - 352s 708ms/step - loss: 0.6540 - accuracy: 0.7162 - val_loss: 0.8521 - val_accuracy: 0.6607\n",
      "Epoch 18/500\n",
      "497/497 [==============================] - 351s 707ms/step - loss: 0.6281 - accuracy: 0.7266 - val_loss: 0.8802 - val_accuracy: 0.6607\n",
      "Epoch 19/500\n",
      "497/497 [==============================] - 356s 716ms/step - loss: 0.6251 - accuracy: 0.7335 - val_loss: 0.8302 - val_accuracy: 0.6772\n",
      "Epoch 20/500\n",
      "497/497 [==============================] - 356s 716ms/step - loss: 0.6040 - accuracy: 0.7452 - val_loss: 0.8264 - val_accuracy: 0.6870\n",
      "Epoch 21/500\n",
      "497/497 [==============================] - 351s 707ms/step - loss: 0.5874 - accuracy: 0.7461 - val_loss: 0.9586 - val_accuracy: 0.6593\n",
      "Epoch 22/500\n",
      "497/497 [==============================] - 372s 749ms/step - loss: 0.5693 - accuracy: 0.7539 - val_loss: 0.9465 - val_accuracy: 0.6729\n",
      "Epoch 23/500\n",
      "497/497 [==============================] - 351s 707ms/step - loss: 0.5531 - accuracy: 0.7606 - val_loss: 0.9148 - val_accuracy: 0.6687\n",
      "Epoch 24/500\n",
      "497/497 [==============================] - 352s 707ms/step - loss: 0.5519 - accuracy: 0.7679 - val_loss: 0.9045 - val_accuracy: 0.6739\n",
      "Epoch 25/500\n",
      "497/497 [==============================] - 351s 707ms/step - loss: 0.5470 - accuracy: 0.7645 - val_loss: 0.9082 - val_accuracy: 0.6668\n",
      "Epoch 26/500\n",
      "497/497 [==============================] - 352s 707ms/step - loss: 0.5009 - accuracy: 0.7896 - val_loss: 0.9281 - val_accuracy: 0.6927\n",
      "Epoch 27/500\n",
      "497/497 [==============================] - 351s 706ms/step - loss: 0.5165 - accuracy: 0.7834 - val_loss: 0.8999 - val_accuracy: 0.6945\n",
      "Epoch 28/500\n",
      "497/497 [==============================] - 351s 707ms/step - loss: 0.4853 - accuracy: 0.7971 - val_loss: 1.0067 - val_accuracy: 0.7072\n",
      "Epoch 29/500\n",
      "497/497 [==============================] - 351s 707ms/step - loss: 0.4802 - accuracy: 0.8037 - val_loss: 0.9575 - val_accuracy: 0.6852\n",
      "Epoch 30/500\n",
      "497/497 [==============================] - 352s 707ms/step - loss: 0.4818 - accuracy: 0.7999 - val_loss: 0.9590 - val_accuracy: 0.7021\n",
      "Epoch 31/500\n",
      "497/497 [==============================] - 351s 707ms/step - loss: 0.4618 - accuracy: 0.8072 - val_loss: 1.0293 - val_accuracy: 0.6880\n",
      "Epoch 32/500\n",
      "497/497 [==============================] - 351s 707ms/step - loss: 0.4605 - accuracy: 0.8127 - val_loss: 0.9143 - val_accuracy: 0.7115\n",
      "Epoch 33/500\n",
      "497/497 [==============================] - 352s 709ms/step - loss: 0.4378 - accuracy: 0.8217 - val_loss: 1.0001 - val_accuracy: 0.7115\n",
      "Epoch 34/500\n",
      "497/497 [==============================] - 352s 707ms/step - loss: 0.4348 - accuracy: 0.8239 - val_loss: 0.9394 - val_accuracy: 0.6950\n",
      "Epoch 35/500\n",
      "497/497 [==============================] - 352s 708ms/step - loss: 0.4211 - accuracy: 0.8274 - val_loss: 1.0228 - val_accuracy: 0.6889\n",
      "Epoch 36/500\n",
      "497/497 [==============================] - 351s 707ms/step - loss: 0.4092 - accuracy: 0.8298 - val_loss: 1.1296 - val_accuracy: 0.6814\n",
      "Epoch 37/500\n",
      "248/497 [=============>................] - ETA: 2:36 - loss: 0.3922 - accuracy: 0.8385"
     ]
    }
   ],
   "source": [
    "training_model_wandb.run(base_model = keras.applications.vgg16.VGG16,\n",
    "        image_size=(224, 224),\n",
    "        batch_size=16,\n",
    "        category_type=\"rock\",\n",
    "        training_folder=\"UV\",\n",
    "        optimizer=keras.optimizers.Adam(lr=0.00001),        \n",
    "        model_name=\"VGG16\")"
   ]
  }
 ],
 "metadata": {
  "kernelspec": {
   "display_name": "Python 3",
   "language": "python",
   "name": "python3"
  },
  "language_info": {
   "codemirror_mode": {
    "name": "ipython",
    "version": 3
   },
   "file_extension": ".py",
   "mimetype": "text/x-python",
   "name": "python",
   "nbconvert_exporter": "python",
   "pygments_lexer": "ipython3",
   "version": "3.6.8"
  }
 },
 "nbformat": 4,
 "nbformat_minor": 2
}
