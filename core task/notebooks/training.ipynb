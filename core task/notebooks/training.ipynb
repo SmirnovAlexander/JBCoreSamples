{
 "cells": [
  {
   "cell_type": "markdown",
   "metadata": {},
   "source": [
    "# Plan "
   ]
  },
  {
   "cell_type": "markdown",
   "metadata": {},
   "source": [
    "# Data observation"
   ]
  },
  {
   "cell_type": "code",
   "execution_count": 210,
   "metadata": {},
   "outputs": [],
   "source": [
    "import pandas as pd\n",
    "import numpy as np\n",
    "import seaborn as sns\n",
    "import matplotlib.pyplot as plt\n",
    "import matplotlib.image as img \n",
    "import os\n",
    "import time\n",
    "import tensorflow\n",
    "import shutil\n",
    "from PIL import Image"
   ]
  },
  {
   "cell_type": "code",
   "execution_count": 3,
   "metadata": {},
   "outputs": [],
   "source": [
    "DATA_PATH = \"../data/huge data/\""
   ]
  },
  {
   "cell_type": "code",
   "execution_count": 4,
   "metadata": {},
   "outputs": [],
   "source": [
    "df = pd.read_csv(DATA_PATH + \"raw data/data.csv\")"
   ]
  },
  {
   "cell_type": "markdown",
   "metadata": {},
   "source": [
    "Adding \"PhotoTop\" and \"PhotoDown\" difference column."
   ]
  },
  {
   "cell_type": "code",
   "execution_count": 5,
   "metadata": {},
   "outputs": [],
   "source": [
    "top_list = list(df[\"PhotoTop\"])\n",
    "down_list = list(df[\"PhotoDown\"])\n",
    "difference = list(np.array(down_list) - np.array(top_list))"
   ]
  },
  {
   "cell_type": "code",
   "execution_count": 6,
   "metadata": {},
   "outputs": [],
   "source": [
    "df.insert(11, \"PhotoDifference\", difference)"
   ]
  },
  {
   "cell_type": "markdown",
   "metadata": {},
   "source": [
    "Shortening some names so later we can add parameters to file names."
   ]
  },
  {
   "cell_type": "code",
   "execution_count": 7,
   "metadata": {},
   "outputs": [],
   "source": [
    "df = df.replace({\"с карбонатными обломками или конкрециями\": \"с карб. обломками или конкрециями\", \"пересл. кремнисто-глинистой породы и аргиллита\": \"пересл. кремн.-глинист. породы и аргиллитa\", \"пересл. песчаника и глины аргиллитоподобной\" : \"пересл. песчаника и глины аргиллитоподобн.\"})"
   ]
  },
  {
   "cell_type": "code",
   "execution_count": 8,
   "metadata": {
    "scrolled": true
   },
   "outputs": [
    {
     "data": {
      "text/html": [
       "<div>\n",
       "<style scoped>\n",
       "    .dataframe tbody tr th:only-of-type {\n",
       "        vertical-align: middle;\n",
       "    }\n",
       "\n",
       "    .dataframe tbody tr th {\n",
       "        vertical-align: top;\n",
       "    }\n",
       "\n",
       "    .dataframe thead th {\n",
       "        text-align: right;\n",
       "    }\n",
       "</style>\n",
       "<table border=\"1\" class=\"dataframe\">\n",
       "  <thead>\n",
       "    <tr style=\"text-align: right;\">\n",
       "      <th></th>\n",
       "      <th>Folder</th>\n",
       "      <th>Id</th>\n",
       "      <th>Field</th>\n",
       "      <th>Well</th>\n",
       "      <th>CoringTop</th>\n",
       "      <th>CoringDown</th>\n",
       "      <th>CoringTopBind</th>\n",
       "      <th>CoringDownBind</th>\n",
       "      <th>CoreRecovery</th>\n",
       "      <th>PhotoTop</th>\n",
       "      <th>PhotoDown</th>\n",
       "      <th>PhotoDifference</th>\n",
       "      <th>PhotoType</th>\n",
       "      <th>LayerTop</th>\n",
       "      <th>LayerDown</th>\n",
       "      <th>Rock</th>\n",
       "      <th>Carbonate</th>\n",
       "      <th>Ruin</th>\n",
       "      <th>Saturation</th>\n",
       "    </tr>\n",
       "  </thead>\n",
       "  <tbody>\n",
       "    <tr>\n",
       "      <td>0</td>\n",
       "      <td>Unload1</td>\n",
       "      <td>1000000</td>\n",
       "      <td>Field6</td>\n",
       "      <td>Well11</td>\n",
       "      <td>1957.1</td>\n",
       "      <td>1963.1</td>\n",
       "      <td>1958.3</td>\n",
       "      <td>1964.3</td>\n",
       "      <td>5.93</td>\n",
       "      <td>0.00</td>\n",
       "      <td>1.00</td>\n",
       "      <td>1.00</td>\n",
       "      <td>ДС</td>\n",
       "      <td>0.00</td>\n",
       "      <td>1.45</td>\n",
       "      <td>песчаник</td>\n",
       "      <td>не карбонатный</td>\n",
       "      <td>не разрушен</td>\n",
       "      <td>нефтенасыщенные</td>\n",
       "    </tr>\n",
       "    <tr>\n",
       "      <td>1</td>\n",
       "      <td>Unload1</td>\n",
       "      <td>1000001</td>\n",
       "      <td>Field6</td>\n",
       "      <td>Well11</td>\n",
       "      <td>1957.1</td>\n",
       "      <td>1963.1</td>\n",
       "      <td>1958.3</td>\n",
       "      <td>1964.3</td>\n",
       "      <td>5.93</td>\n",
       "      <td>0.00</td>\n",
       "      <td>1.00</td>\n",
       "      <td>1.00</td>\n",
       "      <td>УФ</td>\n",
       "      <td>0.00</td>\n",
       "      <td>1.45</td>\n",
       "      <td>песчаник</td>\n",
       "      <td>не карбонатный</td>\n",
       "      <td>не разрушен</td>\n",
       "      <td>нефтенасыщенные</td>\n",
       "    </tr>\n",
       "    <tr>\n",
       "      <td>2</td>\n",
       "      <td>Unload1</td>\n",
       "      <td>1000002</td>\n",
       "      <td>Field6</td>\n",
       "      <td>Well11</td>\n",
       "      <td>1957.1</td>\n",
       "      <td>1963.1</td>\n",
       "      <td>1958.3</td>\n",
       "      <td>1964.3</td>\n",
       "      <td>5.93</td>\n",
       "      <td>1.00</td>\n",
       "      <td>1.45</td>\n",
       "      <td>0.45</td>\n",
       "      <td>ДС</td>\n",
       "      <td>0.00</td>\n",
       "      <td>1.45</td>\n",
       "      <td>песчаник</td>\n",
       "      <td>не карбонатный</td>\n",
       "      <td>не разрушен</td>\n",
       "      <td>нефтенасыщенные</td>\n",
       "    </tr>\n",
       "    <tr>\n",
       "      <td>3</td>\n",
       "      <td>Unload1</td>\n",
       "      <td>1000003</td>\n",
       "      <td>Field6</td>\n",
       "      <td>Well11</td>\n",
       "      <td>1957.1</td>\n",
       "      <td>1963.1</td>\n",
       "      <td>1958.3</td>\n",
       "      <td>1964.3</td>\n",
       "      <td>5.93</td>\n",
       "      <td>1.00</td>\n",
       "      <td>1.45</td>\n",
       "      <td>0.45</td>\n",
       "      <td>УФ</td>\n",
       "      <td>0.00</td>\n",
       "      <td>1.45</td>\n",
       "      <td>песчаник</td>\n",
       "      <td>не карбонатный</td>\n",
       "      <td>не разрушен</td>\n",
       "      <td>нефтенасыщенные</td>\n",
       "    </tr>\n",
       "    <tr>\n",
       "      <td>4</td>\n",
       "      <td>Unload1</td>\n",
       "      <td>1000004</td>\n",
       "      <td>Field6</td>\n",
       "      <td>Well11</td>\n",
       "      <td>1957.1</td>\n",
       "      <td>1963.1</td>\n",
       "      <td>1958.3</td>\n",
       "      <td>1964.3</td>\n",
       "      <td>5.93</td>\n",
       "      <td>1.45</td>\n",
       "      <td>2.00</td>\n",
       "      <td>0.55</td>\n",
       "      <td>ДС</td>\n",
       "      <td>1.45</td>\n",
       "      <td>3.54</td>\n",
       "      <td>алевролит</td>\n",
       "      <td>не карбонатный</td>\n",
       "      <td>не разрушен</td>\n",
       "      <td>не опред.</td>\n",
       "    </tr>\n",
       "  </tbody>\n",
       "</table>\n",
       "</div>"
      ],
      "text/plain": [
       "    Folder       Id   Field    Well  CoringTop  CoringDown  CoringTopBind  \\\n",
       "0  Unload1  1000000  Field6  Well11     1957.1      1963.1         1958.3   \n",
       "1  Unload1  1000001  Field6  Well11     1957.1      1963.1         1958.3   \n",
       "2  Unload1  1000002  Field6  Well11     1957.1      1963.1         1958.3   \n",
       "3  Unload1  1000003  Field6  Well11     1957.1      1963.1         1958.3   \n",
       "4  Unload1  1000004  Field6  Well11     1957.1      1963.1         1958.3   \n",
       "\n",
       "   CoringDownBind  CoreRecovery  PhotoTop  PhotoDown  PhotoDifference  \\\n",
       "0          1964.3          5.93      0.00       1.00             1.00   \n",
       "1          1964.3          5.93      0.00       1.00             1.00   \n",
       "2          1964.3          5.93      1.00       1.45             0.45   \n",
       "3          1964.3          5.93      1.00       1.45             0.45   \n",
       "4          1964.3          5.93      1.45       2.00             0.55   \n",
       "\n",
       "  PhotoType  LayerTop  LayerDown       Rock       Carbonate         Ruin  \\\n",
       "0        ДС      0.00       1.45   песчаник  не карбонатный  не разрушен   \n",
       "1        УФ      0.00       1.45   песчаник  не карбонатный  не разрушен   \n",
       "2        ДС      0.00       1.45   песчаник  не карбонатный  не разрушен   \n",
       "3        УФ      0.00       1.45   песчаник  не карбонатный  не разрушен   \n",
       "4        ДС      1.45       3.54  алевролит  не карбонатный  не разрушен   \n",
       "\n",
       "        Saturation  \n",
       "0  нефтенасыщенные  \n",
       "1  нефтенасыщенные  \n",
       "2  нефтенасыщенные  \n",
       "3  нефтенасыщенные  \n",
       "4        не опред.  "
      ]
     },
     "metadata": {},
     "output_type": "display_data"
    }
   ],
   "source": [
    "display(df.head())"
   ]
  },
  {
   "cell_type": "code",
   "execution_count": 9,
   "metadata": {},
   "outputs": [
    {
     "data": {
      "text/plain": [
       "(6414, 19)"
      ]
     },
     "metadata": {},
     "output_type": "display_data"
    }
   ],
   "source": [
    "display(df.shape)"
   ]
  },
  {
   "cell_type": "code",
   "execution_count": 10,
   "metadata": {},
   "outputs": [
    {
     "name": "stdout",
     "output_type": "stream",
     "text": [
      "<class 'pandas.core.frame.DataFrame'>\n",
      "RangeIndex: 6414 entries, 0 to 6413\n",
      "Data columns (total 19 columns):\n",
      "Folder             6414 non-null object\n",
      "Id                 6414 non-null int64\n",
      "Field              6414 non-null object\n",
      "Well               6414 non-null object\n",
      "CoringTop          6414 non-null float64\n",
      "CoringDown         6414 non-null float64\n",
      "CoringTopBind      6414 non-null float64\n",
      "CoringDownBind     6414 non-null float64\n",
      "CoreRecovery       6414 non-null float64\n",
      "PhotoTop           6414 non-null float64\n",
      "PhotoDown          6414 non-null float64\n",
      "PhotoDifference    6414 non-null float64\n",
      "PhotoType          6414 non-null object\n",
      "LayerTop           6414 non-null float64\n",
      "LayerDown          6414 non-null float64\n",
      "Rock               6414 non-null object\n",
      "Carbonate          6414 non-null object\n",
      "Ruin               6414 non-null object\n",
      "Saturation         6414 non-null object\n",
      "dtypes: float64(10), int64(1), object(8)\n",
      "memory usage: 952.2+ KB\n"
     ]
    }
   ],
   "source": [
    "df.info()"
   ]
  },
  {
   "cell_type": "code",
   "execution_count": 11,
   "metadata": {
    "scrolled": true
   },
   "outputs": [
    {
     "data": {
      "text/html": [
       "<div>\n",
       "<style scoped>\n",
       "    .dataframe tbody tr th:only-of-type {\n",
       "        vertical-align: middle;\n",
       "    }\n",
       "\n",
       "    .dataframe tbody tr th {\n",
       "        vertical-align: top;\n",
       "    }\n",
       "\n",
       "    .dataframe thead th {\n",
       "        text-align: right;\n",
       "    }\n",
       "</style>\n",
       "<table border=\"1\" class=\"dataframe\">\n",
       "  <thead>\n",
       "    <tr style=\"text-align: right;\">\n",
       "      <th></th>\n",
       "      <th>Id</th>\n",
       "      <th>CoringTop</th>\n",
       "      <th>CoringDown</th>\n",
       "      <th>CoringTopBind</th>\n",
       "      <th>CoringDownBind</th>\n",
       "      <th>CoreRecovery</th>\n",
       "      <th>PhotoTop</th>\n",
       "      <th>PhotoDown</th>\n",
       "      <th>PhotoDifference</th>\n",
       "      <th>LayerTop</th>\n",
       "      <th>LayerDown</th>\n",
       "    </tr>\n",
       "  </thead>\n",
       "  <tbody>\n",
       "    <tr>\n",
       "      <td>count</td>\n",
       "      <td>6.414000e+03</td>\n",
       "      <td>6414.000000</td>\n",
       "      <td>6414.000000</td>\n",
       "      <td>6414.000000</td>\n",
       "      <td>6414.000000</td>\n",
       "      <td>6414.000000</td>\n",
       "      <td>6414.000000</td>\n",
       "      <td>6414.000000</td>\n",
       "      <td>6414.000000</td>\n",
       "      <td>6414.000000</td>\n",
       "      <td>6414.000000</td>\n",
       "    </tr>\n",
       "    <tr>\n",
       "      <td>mean</td>\n",
       "      <td>1.002138e+06</td>\n",
       "      <td>2550.285678</td>\n",
       "      <td>2563.308544</td>\n",
       "      <td>2460.439529</td>\n",
       "      <td>2473.149953</td>\n",
       "      <td>12.740711</td>\n",
       "      <td>6.085538</td>\n",
       "      <td>6.706851</td>\n",
       "      <td>0.621313</td>\n",
       "      <td>4.798422</td>\n",
       "      <td>7.968268</td>\n",
       "    </tr>\n",
       "    <tr>\n",
       "      <td>std</td>\n",
       "      <td>1.464913e+03</td>\n",
       "      <td>640.279915</td>\n",
       "      <td>641.503499</td>\n",
       "      <td>787.696835</td>\n",
       "      <td>790.103011</td>\n",
       "      <td>4.120460</td>\n",
       "      <td>4.357954</td>\n",
       "      <td>4.363185</td>\n",
       "      <td>0.346909</td>\n",
       "      <td>4.342573</td>\n",
       "      <td>4.762334</td>\n",
       "    </tr>\n",
       "    <tr>\n",
       "      <td>min</td>\n",
       "      <td>1.000000e+06</td>\n",
       "      <td>784.000000</td>\n",
       "      <td>791.000000</td>\n",
       "      <td>0.000000</td>\n",
       "      <td>0.000000</td>\n",
       "      <td>0.840000</td>\n",
       "      <td>0.000000</td>\n",
       "      <td>0.110000</td>\n",
       "      <td>0.010000</td>\n",
       "      <td>0.000000</td>\n",
       "      <td>0.110000</td>\n",
       "    </tr>\n",
       "    <tr>\n",
       "      <td>25%</td>\n",
       "      <td>1.000858e+06</td>\n",
       "      <td>2401.000000</td>\n",
       "      <td>2419.000000</td>\n",
       "      <td>2319.800000</td>\n",
       "      <td>2332.800000</td>\n",
       "      <td>9.000000</td>\n",
       "      <td>2.490000</td>\n",
       "      <td>3.000000</td>\n",
       "      <td>0.300000</td>\n",
       "      <td>0.790000</td>\n",
       "      <td>4.120000</td>\n",
       "    </tr>\n",
       "    <tr>\n",
       "      <td>50%</td>\n",
       "      <td>1.001792e+06</td>\n",
       "      <td>2747.000000</td>\n",
       "      <td>2763.000000</td>\n",
       "      <td>2742.600000</td>\n",
       "      <td>2760.600000</td>\n",
       "      <td>11.980000</td>\n",
       "      <td>5.340000</td>\n",
       "      <td>5.980000</td>\n",
       "      <td>0.640000</td>\n",
       "      <td>3.860000</td>\n",
       "      <td>7.300000</td>\n",
       "    </tr>\n",
       "    <tr>\n",
       "      <td>75%</td>\n",
       "      <td>1.003398e+06</td>\n",
       "      <td>2914.000000</td>\n",
       "      <td>2926.000000</td>\n",
       "      <td>2916.600000</td>\n",
       "      <td>2928.600000</td>\n",
       "      <td>17.000000</td>\n",
       "      <td>8.967500</td>\n",
       "      <td>9.650000</td>\n",
       "      <td>0.990000</td>\n",
       "      <td>7.590000</td>\n",
       "      <td>11.197500</td>\n",
       "    </tr>\n",
       "    <tr>\n",
       "      <td>max</td>\n",
       "      <td>1.005005e+06</td>\n",
       "      <td>3495.000000</td>\n",
       "      <td>3500.000000</td>\n",
       "      <td>3495.000000</td>\n",
       "      <td>3500.000000</td>\n",
       "      <td>18.150000</td>\n",
       "      <td>17.920000</td>\n",
       "      <td>18.150000</td>\n",
       "      <td>1.050000</td>\n",
       "      <td>17.920000</td>\n",
       "      <td>18.150000</td>\n",
       "    </tr>\n",
       "  </tbody>\n",
       "</table>\n",
       "</div>"
      ],
      "text/plain": [
       "                 Id    CoringTop   CoringDown  CoringTopBind  CoringDownBind  \\\n",
       "count  6.414000e+03  6414.000000  6414.000000    6414.000000     6414.000000   \n",
       "mean   1.002138e+06  2550.285678  2563.308544    2460.439529     2473.149953   \n",
       "std    1.464913e+03   640.279915   641.503499     787.696835      790.103011   \n",
       "min    1.000000e+06   784.000000   791.000000       0.000000        0.000000   \n",
       "25%    1.000858e+06  2401.000000  2419.000000    2319.800000     2332.800000   \n",
       "50%    1.001792e+06  2747.000000  2763.000000    2742.600000     2760.600000   \n",
       "75%    1.003398e+06  2914.000000  2926.000000    2916.600000     2928.600000   \n",
       "max    1.005005e+06  3495.000000  3500.000000    3495.000000     3500.000000   \n",
       "\n",
       "       CoreRecovery     PhotoTop    PhotoDown  PhotoDifference     LayerTop  \\\n",
       "count   6414.000000  6414.000000  6414.000000      6414.000000  6414.000000   \n",
       "mean      12.740711     6.085538     6.706851         0.621313     4.798422   \n",
       "std        4.120460     4.357954     4.363185         0.346909     4.342573   \n",
       "min        0.840000     0.000000     0.110000         0.010000     0.000000   \n",
       "25%        9.000000     2.490000     3.000000         0.300000     0.790000   \n",
       "50%       11.980000     5.340000     5.980000         0.640000     3.860000   \n",
       "75%       17.000000     8.967500     9.650000         0.990000     7.590000   \n",
       "max       18.150000    17.920000    18.150000         1.050000    17.920000   \n",
       "\n",
       "         LayerDown  \n",
       "count  6414.000000  \n",
       "mean      7.968268  \n",
       "std       4.762334  \n",
       "min       0.110000  \n",
       "25%       4.120000  \n",
       "50%       7.300000  \n",
       "75%      11.197500  \n",
       "max      18.150000  "
      ]
     },
     "metadata": {},
     "output_type": "display_data"
    }
   ],
   "source": [
    "display(df.describe())"
   ]
  },
  {
   "cell_type": "code",
   "execution_count": 12,
   "metadata": {},
   "outputs": [
    {
     "data": {
      "image/png": "[encoded data removed]",
      "text/plain": [
       "<Figure size 1440x2880 with 21 Axes>"
      ]
     },
     "metadata": {
      "needs_background": "light"
     },
     "output_type": "display_data"
    }
   ],
   "source": [
    "y_len = 7       # Number of plots on y axe.\n",
    "x_len = 3         # Number of plots on x axe.\n",
    "cur_column = 0     # Columns iterator.\n",
    "columns = list(df.columns)\n",
    "\n",
    "fig, axs = plt.subplots(y_len, x_len, figsize = (20,40))\n",
    "\n",
    "\n",
    "for i in range(y_len):\n",
    "    for j in range(x_len):\n",
    "        if (cur_column > (len(columns)-1)):\n",
    "            break\n",
    "        axs[i, j].hist(df[columns[cur_column]])\n",
    "        axs[i, j].set_title(columns[cur_column]) \n",
    "        axs[i, j].set_ylabel(\"Количество\") \n",
    "        cur_column += 1\n",
    "\n",
    "for ax in fig.axes:\n",
    "    plt.sca(ax)\n",
    "    plt.xticks(rotation=45)\n",
    "\n",
    "plt.tight_layout()\n",
    "plt.show()"
   ]
  },
  {
   "cell_type": "code",
   "execution_count": 13,
   "metadata": {},
   "outputs": [
    {
     "data": {
      "text/plain": [
       "песчаник                                      2482\n",
       "аргиллит                                      1220\n",
       "алевролит                                     1138\n",
       "пересл. песчаника, алевролита и глин           686\n",
       "кремнистая порода                              156\n",
       "переслаивание песчаника и алевролита           140\n",
       "песчаник глинистый                             112\n",
       "глинисто-кремнистая порода                      78\n",
       "кремнисто-глинистая порода                      64\n",
       "глина аргиллитоподобная                         62\n",
       "карбонатно-кремнистая порода                    56\n",
       "уголь                                           42\n",
       "пересл. аргиллита и алевролита                  36\n",
       "фундамент                                       32\n",
       "алевролит сильноглинистый                       24\n",
       "алевро-аргиллит                                 18\n",
       "известняк                                       16\n",
       "кремнисто-карбонатная порода                    12\n",
       "пересл. песчаника и глины аргиллитоподобн.       8\n",
       "пересл. угля и аргиллита                         6\n",
       "конгломерат                                      6\n",
       "глина                                            4\n",
       "брекчия                                          4\n",
       "пересл. кремн.-глинист. породы и аргиллитa       4\n",
       "доломит                                          2\n",
       "карбонатная порода                               2\n",
       "пересл. известняка и кремнистой породы           2\n",
       "аргиллит углистый                                2\n",
       "Name: Rock, dtype: int64"
      ]
     },
     "metadata": {},
     "output_type": "display_data"
    }
   ],
   "source": [
    "display(df[\"Rock\"].value_counts())"
   ]
  },
  {
   "cell_type": "code",
   "execution_count": 14,
   "metadata": {},
   "outputs": [
    {
     "data": {
      "text/plain": [
       "не карбонатный                       4056\n",
       "с карб. обломками или конкрециями    1292\n",
       "слабокарбонатный                      298\n",
       "сильнокарбонатный                     246\n",
       "среднекарбонатный                     226\n",
       "пятнисто карбонатный                  196\n",
       "с примесью                            100\n",
       "Name: Carbonate, dtype: int64"
      ]
     },
     "metadata": {},
     "output_type": "display_data"
    }
   ],
   "source": [
    "display(df[\"Carbonate\"].value_counts())"
   ]
  },
  {
   "cell_type": "code",
   "execution_count": 15,
   "metadata": {},
   "outputs": [
    {
     "data": {
      "text/plain": [
       "частично разрушен    3132\n",
       "не разрушен          2944\n",
       "разрушен              338\n",
       "Name: Ruin, dtype: int64"
      ]
     },
     "metadata": {},
     "output_type": "display_data"
    }
   ],
   "source": [
    "display(df[\"Ruin\"].value_counts())"
   ]
  },
  {
   "cell_type": "code",
   "execution_count": 16,
   "metadata": {
    "scrolled": false
   },
   "outputs": [
    {
     "data": {
      "text/plain": [
       "не опред.                   4596\n",
       "нефтенасыщенные              668\n",
       "пятнисто нефтенасыщенные     358\n",
       "битуминозный                 350\n",
       "продукт                      326\n",
       "слабо нефтенасыщенные        116\n",
       "Name: Saturation, dtype: int64"
      ]
     },
     "metadata": {},
     "output_type": "display_data"
    }
   ],
   "source": [
    "display(df[\"Saturation\"].value_counts())"
   ]
  },
  {
   "cell_type": "markdown",
   "metadata": {},
   "source": [
    "#  Training"
   ]
  },
  {
   "cell_type": "markdown",
   "metadata": {},
   "source": [
    "## Common parts"
   ]
  },
  {
   "cell_type": "markdown",
   "metadata": {},
   "source": [
    "Supporting code for visualizing several samples."
   ]
  },
  {
   "cell_type": "code",
   "execution_count": 17,
   "metadata": {},
   "outputs": [],
   "source": [
    "# Display images one under another.\n",
    "def display_image_list(image_list):\n",
    "    y_len = len(image_list)   # Number of plots on y axe.\n",
    "    cur_column = 0     # Columns iterator.\n",
    "\n",
    "    fig, ax = plt.subplots(y_len, figsize = (2,10))\n",
    "\n",
    "    for i in range(len(ads)):\n",
    "        im = image_list[i] \n",
    "        ax[i].imshow(im)\n",
    "        ax[i].axis('off')\n",
    "        cur_column += 1\n",
    "\n",
    "    plt.subplots_adjust(wspace=0, hspace=0)\n",
    "    plt.show()"
   ]
  },
  {
   "cell_type": "markdown",
   "metadata": {},
   "source": [
    "Code for data preparation."
   ]
  },
  {
   "cell_type": "code",
   "execution_count": 18,
   "metadata": {},
   "outputs": [],
   "source": [
    "# Gets image path, pattern size and image length.\n",
    "# Returns an array of cutted images.\n",
    "def cut_image_into_list(path, patter_height_m=0.2, photo_height_m=1.1):\n",
    "    \n",
    "    image = Image.open(path)\n",
    "    w, h = image.size\n",
    "    number_of_images = int(photo_height_m // patter_height_m)\n",
    "    \n",
    "    pixels_per_image = (patter_height_m * h) // photo_height_m\n",
    "    \n",
    "    image_list = []\n",
    "    for i in range(number_of_images):\n",
    "        image = Image.open(path)\n",
    "        image = image.crop((0, i * pixels_per_image, w, (i + 1) * pixels_per_image))\n",
    "        image_list.append(image)\n",
    "        \n",
    "    return image_list\n",
    "\n",
    "# Saves images list.\n",
    "def save_image_array(path, image_list, unload, number, top, UV, rock, carbonate, ruin, saturation, patter_height_m):\n",
    "    for i in range(len(image_list)):\n",
    "        image_list[i].save(path + UV +\"/{}@{}@{}@{}@{}@{}@{}@{}@{}.jpg\".format(unload, \n",
    "                                                                               number, \n",
    "                                                                               format((top + (i * patter_height_m)), '.1f'), \n",
    "                                                                               format((top + ((i + 1) * patter_height_m)), '.1f'), \n",
    "                                                                               UV, \n",
    "                                                                               rock, \n",
    "                                                                               carbonate, \n",
    "                                                                               ruin, \n",
    "                                                                               saturation))\n",
    "\n",
    "# Cutting all photos and saving them.\n",
    "# path_to_save should lead to folder with 2 folders: \"ДС\" and \"УФ\".\n",
    "def prepare_photos(dataframe, path_to_save, patter_height_m):\n",
    "    for i in range(len(dataframe)):\n",
    "        params = list(dataframe.iloc[i,:])\n",
    "        image_list = cut_image_into_list(path=DATA_PATH + \"raw data/\" + params[0] + \"/data/\" + str(params[1]) + \".jpeg\", \n",
    "                                         patter_height_m=patter_height_m, \n",
    "                                         photo_height_m=params[11])\n",
    "        save_image_array(path=path_to_save, \n",
    "                         image_list=image_list, \n",
    "                         unload=params[0], \n",
    "                         number=params[1], \n",
    "                         top=params[9], \n",
    "                         UV=params[12], \n",
    "                         rock=params[15], \n",
    "                         carbonate=params[16], \n",
    "                         ruin=params[17], \n",
    "                         saturation=params[18], \n",
    "                         patter_height_m=0.2)\n",
    "    return \"done\""
   ]
  },
  {
   "cell_type": "markdown",
   "metadata": {},
   "source": [
    "Code for data retrieval."
   ]
  },
  {
   "cell_type": "code",
   "execution_count": 135,
   "metadata": {},
   "outputs": [],
   "source": [
    "# Makes dataframe out of picture names.\n",
    "# pictures_path --- path to folder that contains 2 folders: UV and non-UV.\n",
    "def create_df_from_picture_names(pictures_path):   \n",
    "    \n",
    "    # Getting names of UV and non-UV folder.\n",
    "    folders = os.listdir(pictures_path)\n",
    "    \n",
    "    # Filling list with photo names.\n",
    "    photo_list = []\n",
    "    for folder in folders:\n",
    "        photo_list.extend(os.listdir(pictures_path + folder))\n",
    "    photo_list.sort()    \n",
    "    \n",
    "        \n",
    "    # Getting the columns for our dataframe.\n",
    "    columns = [df.columns[0], df.columns[1], df.columns[9], df.columns[10], df.columns[12], \n",
    "               df.columns[15], df.columns[16], df.columns[17], df.columns[18]]\n",
    "    pictures_df = pd.DataFrame(columns=columns)\n",
    "    \n",
    "    # Iterating throw all photo's names and adding their params to dataframe.\n",
    "    for i in range(len(photo_list)):\n",
    "        photo_params = photo_list[i].split(\"@\")\n",
    "        photo_params[-1] = photo_params[-1][:-4]\n",
    "        pictures_df.loc[i] = photo_params\n",
    "        \n",
    "    return pictures_df"
   ]
  },
  {
   "cell_type": "markdown",
   "metadata": {},
   "source": [
    "##  Rock"
   ]
  },
  {
   "cell_type": "markdown",
   "metadata": {},
   "source": [
    "### Requirements "
   ]
  },
  {
   "cell_type": "markdown",
   "metadata": {},
   "source": [
    "What have to be done:\n",
    "- Rock type with 20cm accuracy\n",
    "- Interensting rock types: \"песчаник\", \"аргиллит\", \"алевролит\", \"переслой\"\n",
    "- Exact \"переслой\", but for baseline enough \"переслой\" existance up to 5cm and 2cm\n",
    "- Rock type between photos."
   ]
  },
  {
   "cell_type": "markdown",
   "metadata": {},
   "source": [
    "### Plan "
   ]
  },
  {
   "cell_type": "markdown",
   "metadata": {},
   "source": [
    "What we will do now:\n",
    "- Rock type with 20cm accuracy\n",
    "- Interensting rock types: \"песчаник\", \"аргиллит\", \"алевролит\", \"переслой\"\n",
    "- \"переслой\" existance up to 5cm"
   ]
  },
  {
   "cell_type": "markdown",
   "metadata": {},
   "source": [
    "How we will do it:\n",
    "1. Cut images so their length is 20 cm\n",
    "2. Compare these methods:\n",
    " - Train net only on non-UV pictures\n",
    " - Train net only on UV pictures\n",
    " - Make some combination of UV and non-UV nets outputs\n",
    " - Train net on both UV and non-UV pictures\n",
    "\n",
    "Maybe there's need in trying data augmentation."
   ]
  },
  {
   "cell_type": "markdown",
   "metadata": {},
   "source": [
    "### Solution "
   ]
  },
  {
   "cell_type": "markdown",
   "metadata": {},
   "source": [
    "#### Preparing photos "
   ]
  },
  {
   "cell_type": "markdown",
   "metadata": {},
   "source": [
    "Making dataset for rock type (20cm length photos)."
   ]
  },
  {
   "cell_type": "code",
   "execution_count": 289,
   "metadata": {},
   "outputs": [
    {
     "name": "stdout",
     "output_type": "stream",
     "text": [
      "1193.3289120197296\n"
     ]
    }
   ],
   "source": [
    "start = time.time()\n",
    "prepare_photos(df, DATA_PATH + \"prepared data/rock/cut photos/\", 0.2)\n",
    "end = time.time()\n",
    "print(end - start)"
   ]
  },
  {
   "cell_type": "markdown",
   "metadata": {},
   "source": [
    "We are interested in \"песчаник\", \"аргиллит\", \"алевролит\", \"переслой\", so:\n",
    "- let's match all \"переслои\" with one \"переслой\"\n",
    "- let's drop rows, whick rock type does not match with any of interesting rows."
   ]
  },
  {
   "cell_type": "markdown",
   "metadata": {},
   "source": [
    "Connecting \"переслои\" in filenames."
   ]
  },
  {
   "cell_type": "code",
   "execution_count": 282,
   "metadata": {},
   "outputs": [],
   "source": [
    "dict_replace = {\"пересл. песчаника, алевролита и глин\" : \"переслой\",\n",
    "                \"переслаивание песчаника и алевролита\" : \"переслой\",\n",
    "                \"пересл. аргиллита и алевролита\" : \"переслой\",\n",
    "                \"пересл. песчаника и глины аргиллитоподобн.\" : \"переслой\",\n",
    "                \"пересл. кремн.-глинист. породы и аргиллитa\" : \"переслой\",\n",
    "                \"пересл. угля и аргиллита\" : \"переслой\",\n",
    "                \"пересл. известняка и кремнистой породы\" : \"переслой\"\n",
    "               }"
   ]
  },
  {
   "cell_type": "code",
   "execution_count": 277,
   "metadata": {},
   "outputs": [],
   "source": [
    "# Filling list with photo names.\n",
    "folders = os.listdir(DATA_PATH + \"prepared data/rock/cut photos/\")\n",
    "photo_list = []\n",
    "for folder in folders:\n",
    "    photo_list.extend(os.listdir(pictures_path + folder))\n",
    "photo_list.sort()   \n",
    "\n",
    "# Filling list paths.\n",
    "paths = []\n",
    "for picture_name in photo_list:\n",
    "    UV_folder = \"УФ\" if \"УФ\" in picture_name else \"ДС\"\n",
    "    paths.append(DATA_PATH + \"prepared data/rock/cut photos/\" + UV_folder + \"/\" + picture_name)\n",
    "    \n",
    "# Filling target photos names.\n",
    "target_paths = []\n",
    "for i in range(len(paths)):\n",
    "    item = paths[i]\n",
    "    for word, initial in dict_replace.items():\n",
    "        item = item.replace(word, initial)\n",
    "    target_paths.append(item)\n",
    "    \n",
    "# Renaming files.\n",
    "for i in range(len(paths)):\n",
    "    os.renames(paths[i], target_paths[i])"
   ]
  },
  {
   "cell_type": "markdown",
   "metadata": {},
   "source": [
    "Making dataframe of what we've got."
   ]
  },
  {
   "cell_type": "code",
   "execution_count": 283,
   "metadata": {},
   "outputs": [],
   "source": [
    "pictures_df = create_df_from_picture_names(DATA_PATH + \"prepared data/rock/cut photos/\")"
   ]
  },
  {
   "cell_type": "code",
   "execution_count": 284,
   "metadata": {},
   "outputs": [
    {
     "data": {
      "text/html": [
       "<div>\n",
       "<style scoped>\n",
       "    .dataframe tbody tr th:only-of-type {\n",
       "        vertical-align: middle;\n",
       "    }\n",
       "\n",
       "    .dataframe tbody tr th {\n",
       "        vertical-align: top;\n",
       "    }\n",
       "\n",
       "    .dataframe thead th {\n",
       "        text-align: right;\n",
       "    }\n",
       "</style>\n",
       "<table border=\"1\" class=\"dataframe\">\n",
       "  <thead>\n",
       "    <tr style=\"text-align: right;\">\n",
       "      <th></th>\n",
       "      <th>Folder</th>\n",
       "      <th>Id</th>\n",
       "      <th>PhotoTop</th>\n",
       "      <th>PhotoDown</th>\n",
       "      <th>PhotoType</th>\n",
       "      <th>Rock</th>\n",
       "      <th>Carbonate</th>\n",
       "      <th>Ruin</th>\n",
       "      <th>Saturation</th>\n",
       "    </tr>\n",
       "  </thead>\n",
       "  <tbody>\n",
       "    <tr>\n",
       "      <td>1699</td>\n",
       "      <td>Unload1</td>\n",
       "      <td>1000852</td>\n",
       "      <td>0.2</td>\n",
       "      <td>0.4</td>\n",
       "      <td>ДС</td>\n",
       "      <td>аргиллит</td>\n",
       "      <td>не карбонатный</td>\n",
       "      <td>частично разрушен</td>\n",
       "      <td>не опред.</td>\n",
       "    </tr>\n",
       "    <tr>\n",
       "      <td>14932</td>\n",
       "      <td>Unload2</td>\n",
       "      <td>1004563</td>\n",
       "      <td>4.4</td>\n",
       "      <td>4.6</td>\n",
       "      <td>УФ</td>\n",
       "      <td>алевролит</td>\n",
       "      <td>не карбонатный</td>\n",
       "      <td>частично разрушен</td>\n",
       "      <td>не опред.</td>\n",
       "    </tr>\n",
       "    <tr>\n",
       "      <td>5422</td>\n",
       "      <td>Unload2</td>\n",
       "      <td>1000942</td>\n",
       "      <td>9.3</td>\n",
       "      <td>9.5</td>\n",
       "      <td>ДС</td>\n",
       "      <td>алевролит</td>\n",
       "      <td>не карбонатный</td>\n",
       "      <td>частично разрушен</td>\n",
       "      <td>не опред.</td>\n",
       "    </tr>\n",
       "    <tr>\n",
       "      <td>1116</td>\n",
       "      <td>Unload1</td>\n",
       "      <td>1000602</td>\n",
       "      <td>5.0</td>\n",
       "      <td>5.2</td>\n",
       "      <td>ДС</td>\n",
       "      <td>переслой</td>\n",
       "      <td>с карб. обломками или конкрециями</td>\n",
       "      <td>не разрушен</td>\n",
       "      <td>не опред.</td>\n",
       "    </tr>\n",
       "    <tr>\n",
       "      <td>11490</td>\n",
       "      <td>Unload2</td>\n",
       "      <td>1003092</td>\n",
       "      <td>0.0</td>\n",
       "      <td>0.2</td>\n",
       "      <td>ДС</td>\n",
       "      <td>аргиллит</td>\n",
       "      <td>не карбонатный</td>\n",
       "      <td>частично разрушен</td>\n",
       "      <td>не опред.</td>\n",
       "    </tr>\n",
       "  </tbody>\n",
       "</table>\n",
       "</div>"
      ],
      "text/plain": [
       "        Folder       Id PhotoTop PhotoDown PhotoType       Rock  \\\n",
       "1699   Unload1  1000852      0.2       0.4        ДС   аргиллит   \n",
       "14932  Unload2  1004563      4.4       4.6        УФ  алевролит   \n",
       "5422   Unload2  1000942      9.3       9.5        ДС  алевролит   \n",
       "1116   Unload1  1000602      5.0       5.2        ДС   переслой   \n",
       "11490  Unload2  1003092      0.0       0.2        ДС   аргиллит   \n",
       "\n",
       "                               Carbonate               Ruin Saturation  \n",
       "1699                      не карбонатный  частично разрушен  не опред.  \n",
       "14932                     не карбонатный  частично разрушен  не опред.  \n",
       "5422                      не карбонатный  частично разрушен  не опред.  \n",
       "1116   с карб. обломками или конкрециями        не разрушен  не опред.  \n",
       "11490                     не карбонатный  частично разрушен  не опред.  "
      ]
     },
     "metadata": {},
     "output_type": "display_data"
    },
    {
     "data": {
      "text/html": [
       "<div>\n",
       "<style scoped>\n",
       "    .dataframe tbody tr th:only-of-type {\n",
       "        vertical-align: middle;\n",
       "    }\n",
       "\n",
       "    .dataframe tbody tr th {\n",
       "        vertical-align: top;\n",
       "    }\n",
       "\n",
       "    .dataframe thead th {\n",
       "        text-align: right;\n",
       "    }\n",
       "</style>\n",
       "<table border=\"1\" class=\"dataframe\">\n",
       "  <thead>\n",
       "    <tr style=\"text-align: right;\">\n",
       "      <th></th>\n",
       "      <th>Folder</th>\n",
       "      <th>Id</th>\n",
       "      <th>PhotoTop</th>\n",
       "      <th>PhotoDown</th>\n",
       "      <th>PhotoType</th>\n",
       "      <th>Rock</th>\n",
       "      <th>Carbonate</th>\n",
       "      <th>Ruin</th>\n",
       "      <th>Saturation</th>\n",
       "    </tr>\n",
       "  </thead>\n",
       "  <tbody>\n",
       "    <tr>\n",
       "      <td>0</td>\n",
       "      <td>Unload1</td>\n",
       "      <td>1000000</td>\n",
       "      <td>0.0</td>\n",
       "      <td>0.2</td>\n",
       "      <td>ДС</td>\n",
       "      <td>песчаник</td>\n",
       "      <td>не карбонатный</td>\n",
       "      <td>не разрушен</td>\n",
       "      <td>нефтенасыщенные</td>\n",
       "    </tr>\n",
       "    <tr>\n",
       "      <td>1</td>\n",
       "      <td>Unload1</td>\n",
       "      <td>1000000</td>\n",
       "      <td>0.2</td>\n",
       "      <td>0.4</td>\n",
       "      <td>ДС</td>\n",
       "      <td>песчаник</td>\n",
       "      <td>не карбонатный</td>\n",
       "      <td>не разрушен</td>\n",
       "      <td>нефтенасыщенные</td>\n",
       "    </tr>\n",
       "    <tr>\n",
       "      <td>2</td>\n",
       "      <td>Unload1</td>\n",
       "      <td>1000000</td>\n",
       "      <td>0.4</td>\n",
       "      <td>0.6</td>\n",
       "      <td>ДС</td>\n",
       "      <td>песчаник</td>\n",
       "      <td>не карбонатный</td>\n",
       "      <td>не разрушен</td>\n",
       "      <td>нефтенасыщенные</td>\n",
       "    </tr>\n",
       "    <tr>\n",
       "      <td>3</td>\n",
       "      <td>Unload1</td>\n",
       "      <td>1000000</td>\n",
       "      <td>0.6</td>\n",
       "      <td>0.8</td>\n",
       "      <td>ДС</td>\n",
       "      <td>песчаник</td>\n",
       "      <td>не карбонатный</td>\n",
       "      <td>не разрушен</td>\n",
       "      <td>нефтенасыщенные</td>\n",
       "    </tr>\n",
       "    <tr>\n",
       "      <td>4</td>\n",
       "      <td>Unload1</td>\n",
       "      <td>1000001</td>\n",
       "      <td>0.0</td>\n",
       "      <td>0.2</td>\n",
       "      <td>УФ</td>\n",
       "      <td>песчаник</td>\n",
       "      <td>не карбонатный</td>\n",
       "      <td>не разрушен</td>\n",
       "      <td>нефтенасыщенные</td>\n",
       "    </tr>\n",
       "  </tbody>\n",
       "</table>\n",
       "</div>"
      ],
      "text/plain": [
       "    Folder       Id PhotoTop PhotoDown PhotoType      Rock       Carbonate  \\\n",
       "0  Unload1  1000000      0.0       0.2        ДС  песчаник  не карбонатный   \n",
       "1  Unload1  1000000      0.2       0.4        ДС  песчаник  не карбонатный   \n",
       "2  Unload1  1000000      0.4       0.6        ДС  песчаник  не карбонатный   \n",
       "3  Unload1  1000000      0.6       0.8        ДС  песчаник  не карбонатный   \n",
       "4  Unload1  1000001      0.0       0.2        УФ  песчаник  не карбонатный   \n",
       "\n",
       "          Ruin       Saturation  \n",
       "0  не разрушен  нефтенасыщенные  \n",
       "1  не разрушен  нефтенасыщенные  \n",
       "2  не разрушен  нефтенасыщенные  \n",
       "3  не разрушен  нефтенасыщенные  \n",
       "4  не разрушен  нефтенасыщенные  "
      ]
     },
     "metadata": {},
     "output_type": "display_data"
    }
   ],
   "source": [
    "display(pictures_df.sample(5))\n",
    "display(pictures_df.head(5))"
   ]
  },
  {
   "cell_type": "markdown",
   "metadata": {},
   "source": [
    "Let's take a look on a rock type distribution."
   ]
  },
  {
   "cell_type": "code",
   "execution_count": 285,
   "metadata": {
    "scrolled": true
   },
   "outputs": [
    {
     "data": {
      "text/plain": [
       "песчаник                        5648\n",
       "аргиллит                        3916\n",
       "алевролит                       2682\n",
       "переслой                        2066\n",
       "кремнистая порода                482\n",
       "песчаник глинистый               222\n",
       "глинисто-кремнистая порода       202\n",
       "кремнисто-глинистая порода       198\n",
       "карбонатно-кремнистая порода     162\n",
       "фундамент                        122\n",
       "глина аргиллитоподобная          122\n",
       "уголь                             60\n",
       "алевролит сильноглинистый         50\n",
       "известняк                         24\n",
       "кремнисто-карбонатная порода      20\n",
       "алевро-аргиллит                   12\n",
       "глина                              8\n",
       "доломит                            4\n",
       "конгломерат                        4\n",
       "брекчия                            4\n",
       "аргиллит углистый                  2\n",
       "Name: Rock, dtype: int64"
      ]
     },
     "metadata": {},
     "output_type": "display_data"
    }
   ],
   "source": [
    "display(pictures_df[\"Rock\"].value_counts())"
   ]
  },
  {
   "cell_type": "markdown",
   "metadata": {},
   "source": [
    "Removing external rock types."
   ]
  },
  {
   "cell_type": "code",
   "execution_count": 286,
   "metadata": {},
   "outputs": [],
   "source": [
    "pictures_df = pictures_df[(pictures_df.Rock == \"песчаник\")  | \n",
    "                          (pictures_df.Rock == \"аргиллит\")  | \n",
    "                          (pictures_df.Rock == \"алевролит\") | \n",
    "                          (pictures_df.Rock == \"переслой\")\n",
    "                         ]"
   ]
  },
  {
   "cell_type": "code",
   "execution_count": 287,
   "metadata": {},
   "outputs": [
    {
     "data": {
      "text/plain": [
       "песчаник     5648\n",
       "аргиллит     3916\n",
       "алевролит    2682\n",
       "переслой     2066\n",
       "Name: Rock, dtype: int64"
      ]
     },
     "metadata": {},
     "output_type": "display_data"
    }
   ],
   "source": [
    "display(pictures_df[\"Rock\"].value_counts())"
   ]
  },
  {
   "cell_type": "markdown",
   "metadata": {},
   "source": [
    "#### Putting photos to directories"
   ]
  },
  {
   "cell_type": "code",
   "execution_count": 307,
   "metadata": {},
   "outputs": [],
   "source": [
    "# Copying files to train/val/test folders with given proportions.\n",
    "# pictures_path --- path to folder that contains UV and non-UV folder.\n",
    "# target_path --- path to folder that contains folders UV, non-UV, UV+non-UV. \n",
    "# category --- column name.\n",
    "# proportions --- train/validation/test.\n",
    "def prepare_train_folders(pictures_df, pictures_path, target_path, category_column, proportions=[0.7, 0.2, 0.1]):\n",
    "    \n",
    "    # List of folders that will be created (each folder --- category).\n",
    "    categories = list(pictures_df[category_column].unique()) \n",
    "    \n",
    "    # Creating folders for each category.\n",
    "    \n",
    "    # Making a list of paths where to make dirs.\n",
    "    paths_where_to_make_category_dirs=[]\n",
    "    for uv_folder in uv_nonuv_folders:\n",
    "        for train_folder in test_val_train_folders:\n",
    "            paths_where_to_make_category_dirs.append(target_path+uv_folder+\"/\"+train_folder+\"/\")\n",
    "    \n",
    "    # Making dirs.\n",
    "    for where_to_make_dirs in paths_where_to_make_category_dirs:\n",
    "        for category_name in categories:\n",
    "            os.makedirs(where_to_make_dirs+category_name, exist_ok=True)                \n",
    "\n",
    "    # Shuffling df.\n",
    "    pictures_df = pictures_df.sample(frac=1).reset_index(drop=True)\n",
    "    \n",
    "    # List of datarframes.\n",
    "    # Each dataframe contains elements only from 1 category.\n",
    "    list_of_df_category = []\n",
    "    for category in categories:\n",
    "        list_of_df_category.append(pictures_df[(pictures_df.Rock == category)])\n",
    "    \n",
    "    # Iterating throw all dataframes and putting images into correct folders.\n",
    "    for i in range(len(list_of_df_category)):\n",
    "        \n",
    "        # Number of samples in category.\n",
    "        length = len(list_of_df_category[i])\n",
    "        \n",
    "        # Dataframes for 1 type.\n",
    "        train_df = list_of_df_category[i].iloc[:int(length*proportions[0]),:]\n",
    "        validation_df = list_of_df_category[i].iloc[int(length*proportions[0]):int(length*(proportions[0] + proportions[1])),:]\n",
    "        test_df = list_of_df_category[i].iloc[int(length*(proportions[0] + proportions[1])):,:]\n",
    "    \n",
    "        print(\"'{}' category processing started. \\n Train samples: {} \\n Validation samples: {} \\n Test samples: {}\".format(categories[i], len(train_df), len(validation_df), len(test_df)))\n",
    "    \n",
    "        # Picture names from dataframes.\n",
    "        train_pictures_names = []\n",
    "        validation_pictures_names = [] \n",
    "        test_pictures_names = []        \n",
    "        for a in range(len(train_df)):\n",
    "            params = list(train_df.iloc[a,:])\n",
    "            picture_name = '@'.join(map(str, params)) + \".jpg\" \n",
    "            train_pictures_names.append(picture_name)\n",
    "            \n",
    "        for b in range(len(validation_df)):\n",
    "            params = list(validation_df.iloc[b,:])\n",
    "            picture_name = '@'.join(map(str, params)) + \".jpg\" \n",
    "            validation_pictures_names.append(picture_name)\n",
    "            \n",
    "        for c in range(len(test_df)):\n",
    "            params = list(test_df.iloc[c,:])\n",
    "            picture_name = '@'.join(map(str, params)) + \".jpg\" \n",
    "            test_pictures_names.append(picture_name)            \n",
    "                \n",
    "        # Picture paths.\n",
    "        train_pictures_paths = []\n",
    "        validation_pictures_paths = [] \n",
    "        test_pictures_paths = []        \n",
    "        \n",
    "        \n",
    "        for picture_name in train_pictures_names:\n",
    "            UV_folder = \"УФ\" if \"УФ\" in picture_name else \"ДС\"\n",
    "            train_pictures_paths.append(pictures_path + UV_folder + \"/\" + picture_name)\n",
    "\n",
    "        for picture_name in validation_pictures_names:\n",
    "            UV_folder = \"УФ\" if \"УФ\" in picture_name else \"ДС\"\n",
    "            validation_pictures_paths.append(pictures_path + UV_folder + \"/\" + picture_name)\n",
    "            \n",
    "        for picture_name in test_pictures_names:\n",
    "            UV_folder = \"УФ\" if \"УФ\" in picture_name else \"ДС\"\n",
    "            test_pictures_paths.append(pictures_path + UV_folder + \"/\" + picture_name)            \n",
    "        \n",
    "        # Copying pictures.\n",
    "        for picture_path in train_pictures_paths:\n",
    "            UV_folder = \"UV\" if \"УФ\" in picture_path else \"non-UV\"\n",
    "            copy_dir = target_path + UV_folder + \"/\" + \"train/\" + categories[i] + \"/\"\n",
    "            shutil.copy(picture_path, copy_dir)\n",
    "            \n",
    "        for picture_path in validation_pictures_paths:\n",
    "            UV_folder = \"UV\" if \"УФ\" in picture_path else \"non-UV\"\n",
    "            copy_dir = target_path + UV_folder + \"/\" + \"validation/\" + categories[i] + \"/\"\n",
    "            shutil.copy(picture_path, copy_dir)\n",
    "            \n",
    "        for picture_path in test_pictures_paths:\n",
    "            UV_folder = \"UV\" if \"УФ\" in picture_path else \"non-UV\"\n",
    "            copy_dir = target_path + UV_folder + \"/\" + \"test/\" + categories[i] + \"/\"\n",
    "            shutil.copy(picture_path, copy_dir)            \n",
    "            \n",
    "        print(\"Done copying all photos from category {}\".format(categories[i]))\n",
    "        \n",
    "    \n",
    "    # Iterate throw dataframe an put into correct folder\n",
    "    # Put in both folders - UV/non-UV and UV+nonUV\n",
    "    \n",
    "    return"
   ]
  },
  {
   "cell_type": "code",
   "execution_count": 308,
   "metadata": {},
   "outputs": [],
   "source": [
    "pictures_path = DATA_PATH + \"prepared data/rock/cut photos/\"\n",
    "target_path = DATA_PATH + \"prepared data/rock/training data/\"\n",
    "category_column = \"Rock\""
   ]
  },
  {
   "cell_type": "code",
   "execution_count": 309,
   "metadata": {},
   "outputs": [
    {
     "name": "stdout",
     "output_type": "stream",
     "text": [
      "'песчаник' category processing started. \n",
      " Train samples: 3953 \n",
      " Validation samples: 1130 \n",
      " Test samples: 565\n"
     ]
    },
    {
     "ename": "KeyboardInterrupt",
     "evalue": "",
     "output_type": "error",
     "traceback": [
      "\u001b[0;31m---------------------------------------------------------------------------\u001b[0m",
      "\u001b[0;31mKeyboardInterrupt\u001b[0m                         Traceback (most recent call last)",
      "\u001b[0;32m<ipython-input-309-1a75694fb3f2>\u001b[0m in \u001b[0;36m<module>\u001b[0;34m\u001b[0m\n\u001b[1;32m      2\u001b[0m                       \u001b[0mpictures_path\u001b[0m\u001b[0;34m=\u001b[0m\u001b[0mpictures_path\u001b[0m\u001b[0;34m,\u001b[0m\u001b[0;34m\u001b[0m\u001b[0;34m\u001b[0m\u001b[0m\n\u001b[1;32m      3\u001b[0m                       \u001b[0mtarget_path\u001b[0m\u001b[0;34m=\u001b[0m\u001b[0mtarget_path\u001b[0m\u001b[0;34m,\u001b[0m\u001b[0;34m\u001b[0m\u001b[0;34m\u001b[0m\u001b[0m\n\u001b[0;32m----> 4\u001b[0;31m                       category_column=category_column)\n\u001b[0m",
      "\u001b[0;32m<ipython-input-307-84758d0447a8>\u001b[0m in \u001b[0;36mprepare_train_folders\u001b[0;34m(pictures_df, pictures_path, target_path, category_column, proportions)\u001b[0m\n\u001b[1;32m     85\u001b[0m             \u001b[0mUV_folder\u001b[0m \u001b[0;34m=\u001b[0m \u001b[0;34m\"UV\"\u001b[0m \u001b[0;32mif\u001b[0m \u001b[0;34m\"УФ\"\u001b[0m \u001b[0;32min\u001b[0m \u001b[0mpicture_path\u001b[0m \u001b[0;32melse\u001b[0m \u001b[0;34m\"non-UV\"\u001b[0m\u001b[0;34m\u001b[0m\u001b[0;34m\u001b[0m\u001b[0m\n\u001b[1;32m     86\u001b[0m             \u001b[0mcopy_dir\u001b[0m \u001b[0;34m=\u001b[0m \u001b[0mtarget_path\u001b[0m \u001b[0;34m+\u001b[0m \u001b[0mUV_folder\u001b[0m \u001b[0;34m+\u001b[0m \u001b[0;34m\"/\"\u001b[0m \u001b[0;34m+\u001b[0m \u001b[0;34m\"train/\"\u001b[0m \u001b[0;34m+\u001b[0m \u001b[0mcategories\u001b[0m\u001b[0;34m[\u001b[0m\u001b[0mi\u001b[0m\u001b[0;34m]\u001b[0m \u001b[0;34m+\u001b[0m \u001b[0;34m\"/\"\u001b[0m\u001b[0;34m\u001b[0m\u001b[0;34m\u001b[0m\u001b[0m\n\u001b[0;32m---> 87\u001b[0;31m             \u001b[0mshutil\u001b[0m\u001b[0;34m.\u001b[0m\u001b[0mcopy\u001b[0m\u001b[0;34m(\u001b[0m\u001b[0mpicture_path\u001b[0m\u001b[0;34m,\u001b[0m \u001b[0mcopy_dir\u001b[0m\u001b[0;34m)\u001b[0m\u001b[0;34m\u001b[0m\u001b[0;34m\u001b[0m\u001b[0m\n\u001b[0m\u001b[1;32m     88\u001b[0m \u001b[0;34m\u001b[0m\u001b[0m\n\u001b[1;32m     89\u001b[0m         \u001b[0;32mfor\u001b[0m \u001b[0mpicture_path\u001b[0m \u001b[0;32min\u001b[0m \u001b[0mvalidation_pictures_paths\u001b[0m\u001b[0;34m:\u001b[0m\u001b[0;34m\u001b[0m\u001b[0;34m\u001b[0m\u001b[0m\n",
      "\u001b[0;32m~/programms/envs/env/lib/python3.7/shutil.py\u001b[0m in \u001b[0;36mcopy\u001b[0;34m(src, dst, follow_symlinks)\u001b[0m\n\u001b[1;32m    246\u001b[0m     \u001b[0;32mif\u001b[0m \u001b[0mos\u001b[0m\u001b[0;34m.\u001b[0m\u001b[0mpath\u001b[0m\u001b[0;34m.\u001b[0m\u001b[0misdir\u001b[0m\u001b[0;34m(\u001b[0m\u001b[0mdst\u001b[0m\u001b[0;34m)\u001b[0m\u001b[0;34m:\u001b[0m\u001b[0;34m\u001b[0m\u001b[0;34m\u001b[0m\u001b[0m\n\u001b[1;32m    247\u001b[0m         \u001b[0mdst\u001b[0m \u001b[0;34m=\u001b[0m \u001b[0mos\u001b[0m\u001b[0;34m.\u001b[0m\u001b[0mpath\u001b[0m\u001b[0;34m.\u001b[0m\u001b[0mjoin\u001b[0m\u001b[0;34m(\u001b[0m\u001b[0mdst\u001b[0m\u001b[0;34m,\u001b[0m \u001b[0mos\u001b[0m\u001b[0;34m.\u001b[0m\u001b[0mpath\u001b[0m\u001b[0;34m.\u001b[0m\u001b[0mbasename\u001b[0m\u001b[0;34m(\u001b[0m\u001b[0msrc\u001b[0m\u001b[0;34m)\u001b[0m\u001b[0;34m)\u001b[0m\u001b[0;34m\u001b[0m\u001b[0;34m\u001b[0m\u001b[0m\n\u001b[0;32m--> 248\u001b[0;31m     \u001b[0mcopyfile\u001b[0m\u001b[0;34m(\u001b[0m\u001b[0msrc\u001b[0m\u001b[0;34m,\u001b[0m \u001b[0mdst\u001b[0m\u001b[0;34m,\u001b[0m \u001b[0mfollow_symlinks\u001b[0m\u001b[0;34m=\u001b[0m\u001b[0mfollow_symlinks\u001b[0m\u001b[0;34m)\u001b[0m\u001b[0;34m\u001b[0m\u001b[0;34m\u001b[0m\u001b[0m\n\u001b[0m\u001b[1;32m    249\u001b[0m     \u001b[0mcopymode\u001b[0m\u001b[0;34m(\u001b[0m\u001b[0msrc\u001b[0m\u001b[0;34m,\u001b[0m \u001b[0mdst\u001b[0m\u001b[0;34m,\u001b[0m \u001b[0mfollow_symlinks\u001b[0m\u001b[0;34m=\u001b[0m\u001b[0mfollow_symlinks\u001b[0m\u001b[0;34m)\u001b[0m\u001b[0;34m\u001b[0m\u001b[0;34m\u001b[0m\u001b[0m\n\u001b[1;32m    250\u001b[0m     \u001b[0;32mreturn\u001b[0m \u001b[0mdst\u001b[0m\u001b[0;34m\u001b[0m\u001b[0;34m\u001b[0m\u001b[0m\n",
      "\u001b[0;32m~/programms/envs/env/lib/python3.7/shutil.py\u001b[0m in \u001b[0;36mcopyfile\u001b[0;34m(src, dst, follow_symlinks)\u001b[0m\n\u001b[1;32m    120\u001b[0m         \u001b[0;32mwith\u001b[0m \u001b[0mopen\u001b[0m\u001b[0;34m(\u001b[0m\u001b[0msrc\u001b[0m\u001b[0;34m,\u001b[0m \u001b[0;34m'rb'\u001b[0m\u001b[0;34m)\u001b[0m \u001b[0;32mas\u001b[0m \u001b[0mfsrc\u001b[0m\u001b[0;34m:\u001b[0m\u001b[0;34m\u001b[0m\u001b[0;34m\u001b[0m\u001b[0m\n\u001b[1;32m    121\u001b[0m             \u001b[0;32mwith\u001b[0m \u001b[0mopen\u001b[0m\u001b[0;34m(\u001b[0m\u001b[0mdst\u001b[0m\u001b[0;34m,\u001b[0m \u001b[0;34m'wb'\u001b[0m\u001b[0;34m)\u001b[0m \u001b[0;32mas\u001b[0m \u001b[0mfdst\u001b[0m\u001b[0;34m:\u001b[0m\u001b[0;34m\u001b[0m\u001b[0;34m\u001b[0m\u001b[0m\n\u001b[0;32m--> 122\u001b[0;31m                 \u001b[0mcopyfileobj\u001b[0m\u001b[0;34m(\u001b[0m\u001b[0mfsrc\u001b[0m\u001b[0;34m,\u001b[0m \u001b[0mfdst\u001b[0m\u001b[0;34m)\u001b[0m\u001b[0;34m\u001b[0m\u001b[0;34m\u001b[0m\u001b[0m\n\u001b[0m\u001b[1;32m    123\u001b[0m     \u001b[0;32mreturn\u001b[0m \u001b[0mdst\u001b[0m\u001b[0;34m\u001b[0m\u001b[0;34m\u001b[0m\u001b[0m\n\u001b[1;32m    124\u001b[0m \u001b[0;34m\u001b[0m\u001b[0m\n",
      "\u001b[0;32m~/programms/envs/env/lib/python3.7/shutil.py\u001b[0m in \u001b[0;36mcopyfileobj\u001b[0;34m(fsrc, fdst, length)\u001b[0m\n\u001b[1;32m     77\u001b[0m     \u001b[0;34m\"\"\"copy data from file-like object fsrc to file-like object fdst\"\"\"\u001b[0m\u001b[0;34m\u001b[0m\u001b[0;34m\u001b[0m\u001b[0m\n\u001b[1;32m     78\u001b[0m     \u001b[0;32mwhile\u001b[0m \u001b[0;36m1\u001b[0m\u001b[0;34m:\u001b[0m\u001b[0;34m\u001b[0m\u001b[0;34m\u001b[0m\u001b[0m\n\u001b[0;32m---> 79\u001b[0;31m         \u001b[0mbuf\u001b[0m \u001b[0;34m=\u001b[0m \u001b[0mfsrc\u001b[0m\u001b[0;34m.\u001b[0m\u001b[0mread\u001b[0m\u001b[0;34m(\u001b[0m\u001b[0mlength\u001b[0m\u001b[0;34m)\u001b[0m\u001b[0;34m\u001b[0m\u001b[0;34m\u001b[0m\u001b[0m\n\u001b[0m\u001b[1;32m     80\u001b[0m         \u001b[0;32mif\u001b[0m \u001b[0;32mnot\u001b[0m \u001b[0mbuf\u001b[0m\u001b[0;34m:\u001b[0m\u001b[0;34m\u001b[0m\u001b[0;34m\u001b[0m\u001b[0m\n\u001b[1;32m     81\u001b[0m             \u001b[0;32mbreak\u001b[0m\u001b[0;34m\u001b[0m\u001b[0;34m\u001b[0m\u001b[0m\n",
      "\u001b[0;31mKeyboardInterrupt\u001b[0m: "
     ]
    }
   ],
   "source": [
    "prepare_train_folders(pictures_df=pictures_df, \n",
    "                      pictures_path=pictures_path, \n",
    "                      target_path=target_path, \n",
    "                      category_column=category_column)"
   ]
  },
  {
   "cell_type": "markdown",
   "metadata": {},
   "source": [
    "#### Import samples into keras"
   ]
  },
  {
   "cell_type": "markdown",
   "metadata": {},
   "source": [
    "### Add later "
   ]
  },
  {
   "cell_type": "markdown",
   "metadata": {},
   "source": [
    "What can be done later:\n",
    "- Rock type between photos.\n",
    "- Exact \"переслой\"\n",
    "- \"переслой\" range up to 5cm and 2cm"
   ]
  },
  {
   "cell_type": "markdown",
   "metadata": {},
   "source": [
    "## Carbonate"
   ]
  },
  {
   "cell_type": "markdown",
   "metadata": {},
   "source": [
    "## Ruin "
   ]
  },
  {
   "cell_type": "markdown",
   "metadata": {},
   "source": [
    "## Saturation"
   ]
  },
  {
   "cell_type": "markdown",
   "metadata": {},
   "source": [
    "# Using model "
   ]
  }
 ],
 "metadata": {
  "hide_input": false,
  "kernelspec": {
   "display_name": "Python 3",
   "language": "python",
   "name": "python3"
  },
  "language_info": {
   "codemirror_mode": {
    "name": "ipython",
    "version": 3
   },
   "file_extension": ".py",
   "mimetype": "text/x-python",
   "name": "python",
   "nbconvert_exporter": "python",
   "pygments_lexer": "ipython3",
   "version": "3.7.4"
  },
  "toc": {
   "base_numbering": 1,
   "nav_menu": {
    "height": "284px",
    "width": "510px"
   },
   "number_sections": true,
   "sideBar": true,
   "skip_h1_title": false,
   "title_cell": "Table of Contents",
   "title_sidebar": "Contents",
   "toc_cell": false,
   "toc_position": {
    "height": "calc(100% - 180px)",
    "left": "10px",
    "top": "150px",
    "width": "384px"
   },
   "toc_section_display": true,
   "toc_window_display": true
  }
 },
 "nbformat": 4,
 "nbformat_minor": 2
}
