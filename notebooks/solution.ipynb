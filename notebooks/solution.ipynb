{
 "cells": [
  {
   "cell_type": "markdown",
   "metadata": {},
   "source": [
    "# Research Engineer test task"
   ]
  },
  {
   "cell_type": "markdown",
   "metadata": {},
   "source": [
    "Dear applicant!\n",
    "We are asking you to implement a thoughtful pipeline for a rather simple toy task.\n",
    "\n",
    "You are given the dataset from the Tiny ImageNet Challenge which is the default final project for Stanford [CS231N](http://cs231n.stanford.edu/) course. It runs similar to the [ImageNet challenge](http://www.image-net.org/challenges/LSVRC/2014/) (ILSVRC). The goal of the original challenge is for you to do as well as possible on the Image Classification problem.\n",
    "\n",
    "Although your goal of this task is **not** just to do as good as possible on the Image Classification problem.\n",
    "We would rather encourage you to demonstrate best practices and your skills of rapid prototyping reliable pipelines.\n",
    "You may want to take a look at Andrej Karpathy's [Recipe for Training Neural Networks\n",
    "](https://karpathy.github.io/2019/04/25/recipe/).\n",
    "\n",
    "We provided you with a simple pytorch baseline. You are free to use it or to design the whole solution from scratch. \n",
    "We are not restricting you with the frameworks, you can install any package you need and organise your files however you want. Just please make sure to provide all the sources, checkpoints, logs, visualisations etc.\n",
    "If you decide to use our platform setup, it is all already taken care of. We will just review the artifacts of your work on our storage. Otherwise it is your responsibility.\n",
    "\n",
    "To add some measurable results to the task, your final goal will be to achieve best accuracy on the provided __test__ split of the Tiny ImageNet dataset.\n",
    "Also you are expected to show all the visualisations you find necessary alongside with the final evaluation metrics. We already took care of a tensorboard setup for you, so you can track some of your plots there. Please follow  [README.md](https://github.com/neuromation/test-task/blob/master/README.md) for instructions. \n"
   ]
  },
  {
   "cell_type": "markdown",
   "metadata": {},
   "source": [
    "# Table of contents:\n",
    "- [Preparing the data](#Preparing-the-data)\n",
    "- [Training model](#Training-model)\n",
    "- [Visualizing results](#Visualizing-results)\n",
    "- [Testing the solution](#Testing-the-solution)"
   ]
  },
  {
   "cell_type": "code",
   "execution_count": 82,
   "metadata": {},
   "outputs": [],
   "source": [
    "import os\n",
    "import shutil\n",
    "import csv\n",
    "import zipfile\n",
    "import urllib.request"
   ]
  },
  {
   "cell_type": "markdown",
   "metadata": {},
   "source": [
    "# Preparing the data"
   ]
  },
  {
   "cell_type": "markdown",
   "metadata": {},
   "source": [
    "Let's define a path to data."
   ]
  },
  {
   "cell_type": "code",
   "execution_count": 16,
   "metadata": {},
   "outputs": [],
   "source": [
    "DATA_PATH = \"..\\\\\" + \"data\""
   ]
  },
  {
   "cell_type": "markdown",
   "metadata": {},
   "source": [
    "Downloading data."
   ]
  },
  {
   "cell_type": "code",
   "execution_count": null,
   "metadata": {},
   "outputs": [],
   "source": []
  },
  {
   "cell_type": "markdown",
   "metadata": {},
   "source": [
    "Unzipping data."
   ]
  },
  {
   "cell_type": "code",
   "execution_count": null,
   "metadata": {},
   "outputs": [],
   "source": [
    "with zipfile.ZipFile(os.path.join(DATA_PATH, \"tiny-imagenet-200.zip\"), 'r') as zip_ref:\n",
    "    zip_ref.extractall(DATA_PATH)\n",
    "\n",
    "# Deleting zip.\n",
    "data_folder = os.listdir(DATA_PATH)\n",
    "for item in data_folder:\n",
    "    if item.endswith(\".zip\"):\n",
    "        os.remove(os.path.join(DATA_PATH, item))"
   ]
  },
  {
   "cell_type": "markdown",
   "metadata": {},
   "source": [
    "Now let's put all logic that handles the data in one class."
   ]
  },
  {
   "cell_type": "code",
   "execution_count": 83,
   "metadata": {},
   "outputs": [],
   "source": [
    "class PrepareData():\n",
    "                 \n",
    "    # Moving folders to upper directory.\n",
    "    def move_folders():\n",
    "        \n",
    "        data_folder = os.listdir(os.path.join(DATA_PATH, \"tiny-imagenet-200\"))\n",
    "\n",
    "        for item in data_folder:\n",
    "            shutil.move(os.path.join(DATA_PATH, \"tiny-imagenet-200\", item), os.path.join(DATA_PATH, item))\n",
    "            \n",
    "        shutil.rmtree(os.path.join(DATA_PATH, \"tiny-imagenet-200\"))\n",
    "    \n",
    "    # Preparing data in train folder.\n",
    "    def prepare_train():\n",
    "        \n",
    "        data_folder = os.listdir(os.path.join(DATA_PATH, \"train\"))\n",
    "\n",
    "        for item in data_folder:\n",
    "\n",
    "            # Removing .txt\n",
    "            data_folder_1 = os.listdir(os.path.join(DATA_PATH, \"train\", item))\n",
    "            for item_1 in data_folder_1:\n",
    "                if item_1.endswith(\".txt\"):\n",
    "                    os.remove(os.path.join(DATA_PATH, \"train\", item, item_1))\n",
    "\n",
    "            images = os.listdir(os.path.join(DATA_PATH, \"train\", item, \"images\"))\n",
    "            for image in images:    \n",
    "                shutil.move(os.path.join(DATA_PATH, \"train\", item, \"images\", image), os.path.join(DATA_PATH, \"train\", item, image))\n",
    "            shutil.rmtree(os.path.join(DATA_PATH, \"train\", item, \"images\"))\n",
    "    \n",
    "    # Preparing data in val folder.\n",
    "    def prepare_val():\n",
    "        \n",
    "        with open(os.path.join(DATA_PATH, \"val\", \"val_annotations.txt\")) as f:\n",
    "            reader = csv.reader(f)\n",
    "            images_labels = list(reader)\n",
    "        for i in images_labels:\n",
    "            i[0] = i[0].split(\"\\t\")\n",
    "            \n",
    "        images_names = []\n",
    "        images_folders = []     \n",
    "        \n",
    "        for i in images_labels:\n",
    "            images_names.append(i[0][0])\n",
    "            images_folders.append(i[0][1])        \n",
    "            \n",
    "        for folder in set(images_folders):\n",
    "            os.mkdir(os.path.join(DATA_PATH, \"val\", folder))     \n",
    "            \n",
    "        data_folder = os.listdir(os.path.join(DATA_PATH, \"val\", \"images\"))\n",
    "\n",
    "        for item in data_folder:\n",
    "            shutil.move(os.path.join(DATA_PATH, \"val\", \"images\", item), os.path.join(DATA_PATH, \"val\", images_folders[images_names.index(item)]))            \n",
    "            \n",
    "        shutil.rmtree(os.path.join(DATA_PATH, \"val\", \"images\"))\n",
    "        os.remove(os.path.join(DATA_PATH, \"val\", \"val_annotations.txt\"))       \n",
    "        \n",
    "    # Preparing data in test folder.\n",
    "    def prepare_test():\n",
    "        \n",
    "        with open(os.path.join(DATA_PATH, \"test\", \"test_annotations.txt\")) as f:\n",
    "            reader = csv.reader(f)\n",
    "            images_labels = list(reader)\n",
    "        for i in images_labels:\n",
    "            i[0] = i[0].split(\"\\t\")\n",
    "            \n",
    "        images_names = []\n",
    "        images_folders = []     \n",
    "        \n",
    "        for i in images_labels:\n",
    "            images_names.append(i[0][0])\n",
    "            images_folders.append(i[0][1])        \n",
    "            \n",
    "        for folder in set(images_folders):\n",
    "            os.mkdir(os.path.join(DATA_PATH, \"test\", folder))     \n",
    "            \n",
    "        data_folder = os.listdir(os.path.join(DATA_PATH, \"test\", \"images\"))\n",
    "\n",
    "        for item in data_folder:\n",
    "            shutil.move(os.path.join(DATA_PATH, \"test\", \"images\", item), os.path.join(DATA_PATH, \"val\", images_folders[images_names.index(item)]))            \n",
    "            \n",
    "        shutil.rmtree(os.path.join(DATA_PATH, \"test\", \"images\"))\n",
    "        os.remove(os.path.join(DATA_PATH, \"test\", \"test_annotations.txt\"))           "
   ]
  },
  {
   "cell_type": "code",
   "execution_count": 76,
   "metadata": {},
   "outputs": [],
   "source": [
    "PrepareData.move_folders()"
   ]
  },
  {
   "cell_type": "code",
   "execution_count": 77,
   "metadata": {},
   "outputs": [],
   "source": [
    "PrepareData.prepare_train()"
   ]
  },
  {
   "cell_type": "code",
   "execution_count": 78,
   "metadata": {},
   "outputs": [],
   "source": [
    "PrepareData.prepare_val()"
   ]
  },
  {
   "cell_type": "markdown",
   "metadata": {},
   "source": [
    "# Training model"
   ]
  },
  {
   "cell_type": "markdown",
   "metadata": {},
   "source": [
    "# Visualizing results"
   ]
  },
  {
   "cell_type": "markdown",
   "metadata": {},
   "source": [
    "# Testing the solution"
   ]
  },
  {
   "cell_type": "markdown",
   "metadata": {},
   "source": [
    "In order to test solution add \"test_annotations.txt\" file to test folder and run cells below."
   ]
  },
  {
   "cell_type": "code",
   "execution_count": null,
   "metadata": {},
   "outputs": [],
   "source": [
    "PrepareData.prepare_test()"
   ]
  },
  {
   "cell_type": "code",
   "execution_count": 79,
   "metadata": {},
   "outputs": [],
   "source": [
    "# TEst generator"
   ]
  },
  {
   "cell_type": "code",
   "execution_count": 80,
   "metadata": {},
   "outputs": [],
   "source": [
    "# model.evaluate"
   ]
  }
 ],
 "metadata": {
  "kernelspec": {
   "display_name": "Python 3",
   "language": "python",
   "name": "python3"
  },
  "language_info": {
   "codemirror_mode": {
    "name": "ipython",
    "version": 3
   },
   "file_extension": ".py",
   "mimetype": "text/x-python",
   "name": "python",
   "nbconvert_exporter": "python",
   "pygments_lexer": "ipython3",
   "version": "3.6.7"
  }
 },
 "nbformat": 4,
 "nbformat_minor": 2
}
